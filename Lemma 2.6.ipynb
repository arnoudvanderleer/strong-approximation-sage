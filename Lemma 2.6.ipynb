{
 "cells": [
  {
   "cell_type": "code",
   "execution_count": 1,
   "metadata": {},
   "outputs": [],
   "source": [
    "%display latex"
   ]
  },
  {
   "cell_type": "code",
   "execution_count": 2,
   "metadata": {},
   "outputs": [],
   "source": [
    "import algorithm_states"
   ]
  },
  {
   "cell_type": "code",
   "execution_count": 3,
   "metadata": {},
   "outputs": [],
   "source": [
    "k = QQ.algebraic_closure()\n",
    "q0 = matrix([\n",
    "    [0, 0, 0, 1/2],\n",
    "    [0, 0, -1/2, 0],\n",
    "    [0, -1/2, 0, 0],\n",
    "    [1/2, 0, 0, 0],\n",
    "]).change_ring(k)"
   ]
  },
  {
   "cell_type": "markdown",
   "metadata": {},
   "source": [
    "Take $ m \\in \\mathop{SO}(q_0)(k) $."
   ]
  },
  {
   "cell_type": "code",
   "execution_count": 4,
   "metadata": {},
   "outputs": [
    {
     "data": {
      "text/html": [
       "<html><script type=\"math/tex; mode=display\">\\newcommand{\\Bold}[1]{\\mathbf{#1}}\\left(\\left(\\begin{array}{rrrr}\n",
       "0 & 0 & -1 & 0 \\\\\n",
       "0 & 0 & 0 & 1 \\\\\n",
       "-1 & 0 & 0 & 0 \\\\\n",
       "0 & 1 & 0 & 0\n",
       "\\end{array}\\right), \\left(\\begin{array}{rrrr}\n",
       "0 & 0 & 0 & 0 \\\\\n",
       "0 & 0 & 0 & 0 \\\\\n",
       "0 & 0 & 0 & 0 \\\\\n",
       "0 & 0 & 0 & 0\n",
       "\\end{array}\\right), 1\\right)</script></html>"
      ],
      "text/plain": [
       "(\n",
       "[ 0  0 -1  0]  [0 0 0 0]   \n",
       "[ 0  0  0  1]  [0 0 0 0]   \n",
       "[-1  0  0  0]  [0 0 0 0]   \n",
       "[ 0  1  0  0], [0 0 0 0], 1\n",
       ")"
      ]
     },
     "execution_count": 4,
     "metadata": {},
     "output_type": "execute_result"
    }
   ],
   "source": [
    "m0 = matrix([\n",
    "    [0, 0, -1, 0],\n",
    "    [0, 0, 0, 1],\n",
    "    [-1, 0, 0, 0],\n",
    "    [0, 1, 0, 0]\n",
    "]); (m0, m0.transpose() * q0 * m0 - q0, m0.determinant())"
   ]
  },
  {
   "cell_type": "code",
   "execution_count": 5,
   "metadata": {},
   "outputs": [],
   "source": [
    "state = algorithm_states.SL2SL2State(m0)"
   ]
  },
  {
   "cell_type": "markdown",
   "metadata": {},
   "source": [
    "First of all, if $ m_{11} = 0 $ and $ m_{21} = 0 $, we must have $ m_{31} \\not = 0 $ or $ m_{41} \\not = 0 $. We add $ m_{31} $ to $ m_{11} $ and $ m_{41} $ to $ m_{21} $ to have $ m_{11} \\not = 0 $ or $ m_{21} \\not = 0 $."
   ]
  },
  {
   "cell_type": "code",
   "execution_count": 6,
   "metadata": {},
   "outputs": [
    {
     "data": {
      "text/html": [
       "<html><script type=\"math/tex; mode=display\">\\newcommand{\\Bold}[1]{\\mathbf{#1}}\\left(\\begin{array}{rrrr}\n",
       "-1 & 0 & -1 & 0 \\\\\n",
       "0 & 1 & 0 & 1 \\\\\n",
       "-1 & 0 & 0 & 0 \\\\\n",
       "0 & 1 & 0 & 0\n",
       "\\end{array}\\right)</script></html>"
      ],
      "text/plain": [
       "[-1  0 -1  0]\n",
       "[ 0  1  0  1]\n",
       "[-1  0  0  0]\n",
       "[ 0  1  0  0]"
      ]
     },
     "metadata": {},
     "output_type": "display_data"
    }
   ],
   "source": [
    "if state.m[0, 0] == 0 and state.m[0, 1] == 0:\n",
    "    state.add_row(2, 0)"
   ]
  },
  {
   "cell_type": "markdown",
   "metadata": {},
   "source": [
    "If $ m_{21} = 0 $, we add $ m_{11} $ to $ m_{21} $ to have $ m_{21} \\not = 0 $."
   ]
  },
  {
   "cell_type": "code",
   "execution_count": 7,
   "metadata": {},
   "outputs": [
    {
     "data": {
      "text/html": [
       "<html><script type=\"math/tex; mode=display\">\\newcommand{\\Bold}[1]{\\mathbf{#1}}\\left(\\begin{array}{rrrr}\n",
       "-1 & 0 & -1 & 0 \\\\\n",
       "-1 & 1 & -1 & 1 \\\\\n",
       "-1 & 0 & 0 & 0 \\\\\n",
       "-1 & 1 & 0 & 0\n",
       "\\end{array}\\right)</script></html>"
      ],
      "text/plain": [
       "[-1  0 -1  0]\n",
       "[-1  1 -1  1]\n",
       "[-1  0  0  0]\n",
       "[-1  1  0  0]"
      ]
     },
     "metadata": {},
     "output_type": "display_data"
    }
   ],
   "source": [
    "if state.m[1, 0] == 0:\n",
    "    state.add_row(0, 1)"
   ]
  },
  {
   "cell_type": "markdown",
   "metadata": {},
   "source": [
    "We add $ \\frac{1 - m_{11}}{m_{21}} $ times $ m_{21} $ to $ m_{11} $ to have $ m_{11} = 1 $."
   ]
  },
  {
   "cell_type": "code",
   "execution_count": 8,
   "metadata": {},
   "outputs": [
    {
     "data": {
      "text/html": [
       "<html><script type=\"math/tex; mode=display\">\\newcommand{\\Bold}[1]{\\mathbf{#1}}\\left(\\begin{array}{rrrr}\n",
       "1 & -2 & 1 & -2 \\\\\n",
       "-1 & 1 & -1 & 1 \\\\\n",
       "1 & -2 & 0 & 0 \\\\\n",
       "-1 & 1 & 0 & 0\n",
       "\\end{array}\\right)</script></html>"
      ],
      "text/plain": [
       "[ 1 -2  1 -2]\n",
       "[-1  1 -1  1]\n",
       "[ 1 -2  0  0]\n",
       "[-1  1  0  0]"
      ]
     },
     "metadata": {},
     "output_type": "display_data"
    }
   ],
   "source": [
    "state.add_row(1, 0, scale = (1 - state.m[0, 0]) / state.m[1, 0])"
   ]
  },
  {
   "cell_type": "markdown",
   "metadata": {},
   "source": [
    "We now subtract $ m_{21} $ times $ m_{11} $ from $ m_{21} $, and $ m_{31} $ times $ m_{11} $ from $ m_{31} $. Then $ m_{21} = m_{31} = 0 $."
   ]
  },
  {
   "cell_type": "code",
   "execution_count": 9,
   "metadata": {},
   "outputs": [
    {
     "data": {
      "text/html": [
       "<html><script type=\"math/tex; mode=display\">\\newcommand{\\Bold}[1]{\\mathbf{#1}}\\left(\\begin{array}{rrrr}\n",
       "1 & -2 & 1 & -2 \\\\\n",
       "0 & -1 & 0 & -1 \\\\\n",
       "1 & -2 & 0 & 0 \\\\\n",
       "0 & -1 & 0 & 0\n",
       "\\end{array}\\right)</script></html>"
      ],
      "text/plain": [
       "[ 1 -2  1 -2]\n",
       "[ 0 -1  0 -1]\n",
       "[ 1 -2  0  0]\n",
       "[ 0 -1  0  0]"
      ]
     },
     "metadata": {},
     "output_type": "display_data"
    }
   ],
   "source": [
    "state.add_row(0, 1, scale = -state.m[1, 0])"
   ]
  },
  {
   "cell_type": "code",
   "execution_count": 10,
   "metadata": {},
   "outputs": [
    {
     "data": {
      "text/html": [
       "<html><script type=\"math/tex; mode=display\">\\newcommand{\\Bold}[1]{\\mathbf{#1}}\\left(\\begin{array}{rrrr}\n",
       "1 & -2 & 1 & -2 \\\\\n",
       "0 & -1 & 0 & -1 \\\\\n",
       "0 & 0 & -1 & 2 \\\\\n",
       "0 & 0 & 0 & 1\n",
       "\\end{array}\\right)</script></html>"
      ],
      "text/plain": [
       "[ 1 -2  1 -2]\n",
       "[ 0 -1  0 -1]\n",
       "[ 0  0 -1  2]\n",
       "[ 0  0  0  1]"
      ]
     },
     "metadata": {},
     "output_type": "display_data"
    }
   ],
   "source": [
    "state.add_row(0, 2, scale = -state.m[2, 0])"
   ]
  },
  {
   "cell_type": "markdown",
   "metadata": {},
   "source": [
    "Since $ m \\in \\mathop{SO}(q_0)(k) $, for $ i \\leq 3 $, the inner product between columns $ 1 $ and $ i $ is $ 0 $, so $ m_{4i} = 0 $. Also, the inner product between columns $ 1 $ and $ 4 $ is $ \\frac{1}{2} $, so $ m_{44} = 1 $."
   ]
  },
  {
   "cell_type": "markdown",
   "metadata": {},
   "source": [
    "We can now subtract $ m_{34} $ times $ m_{44} $ from $ m_{34} $ and $ m_{24} $ times $ m_{44} $ from $ m_{24} $ to make sure $ m_{24} = m_{34} = 0 $."
   ]
  },
  {
   "cell_type": "code",
   "execution_count": 11,
   "metadata": {},
   "outputs": [
    {
     "data": {
      "text/html": [
       "<html><script type=\"math/tex; mode=display\">\\newcommand{\\Bold}[1]{\\mathbf{#1}}\\left(\\begin{array}{rrrr}\n",
       "1 & 0 & 1 & 0 \\\\\n",
       "0 & -1 & 0 & -1 \\\\\n",
       "0 & 0 & -1 & 0 \\\\\n",
       "0 & 0 & 0 & 1\n",
       "\\end{array}\\right)</script></html>"
      ],
      "text/plain": [
       "[ 1  0  1  0]\n",
       "[ 0 -1  0 -1]\n",
       "[ 0  0 -1  0]\n",
       "[ 0  0  0  1]"
      ]
     },
     "metadata": {},
     "output_type": "display_data"
    }
   ],
   "source": [
    "state.add_row(3, 2, scale = -state.m[2, 3])"
   ]
  },
  {
   "cell_type": "code",
   "execution_count": 12,
   "metadata": {},
   "outputs": [
    {
     "data": {
      "text/html": [
       "<html><script type=\"math/tex; mode=display\">\\newcommand{\\Bold}[1]{\\mathbf{#1}}\\left(\\begin{array}{rrrr}\n",
       "1 & 0 & 0 & 0 \\\\\n",
       "0 & -1 & 0 & 0 \\\\\n",
       "0 & 0 & -1 & 0 \\\\\n",
       "0 & 0 & 0 & 1\n",
       "\\end{array}\\right)</script></html>"
      ],
      "text/plain": [
       "[ 1  0  0  0]\n",
       "[ 0 -1  0  0]\n",
       "[ 0  0 -1  0]\n",
       "[ 0  0  0  1]"
      ]
     },
     "metadata": {},
     "output_type": "display_data"
    }
   ],
   "source": [
    "state.add_row(3, 1, scale = -state.m[1, 3])"
   ]
  },
  {
   "cell_type": "markdown",
   "metadata": {},
   "source": [
    "For $ 2 \\leq i \\leq 4 $, the inner product between columns $ i $ and $ 4 $ is $ 0 $, so $ m_{4i} = 0 $."
   ]
  },
  {
   "cell_type": "markdown",
   "metadata": {},
   "source": [
    "Then the equation, given at the end of Appendix A to cut out $ \\mathop{SO}(q_0) $ inside $ \\mathop{O}(q_0) $, gives $ m_{23} m_{32} = 0 $. Also, since the inner product between the columns $ 2 $ and $ 3 $ is $ \\frac{1}{2} $, we have $ m_{22} m_{33} = 1 $. Now for $ 2 \\leq i \\leq 3 $, since the inner product of column $ i $ with itself is $ 0 $ for all columns, we have $ m_{2i} m_{3i} = 0 $ and this gives $ m_{23} = m_{32} = 0 $. Then we have $ m_{33} = \\frac{1}{m_{22}} $."
   ]
  },
  {
   "cell_type": "markdown",
   "metadata": {},
   "source": [
    "Since $ k $ is quadratically closed, there exists $ \\mu \\in k $ such that $ \\mu^2 = m_{22} $. Then we can lift $ m $ to $ \\left( \\left( \\begin{smallmatrix} \\mu & 0 \\\\ 0 & \\frac{1}{\\mu} \\end{smallmatrix} \\right), \\left( \\begin{smallmatrix} \\frac{1}{\\mu} & 0 \\\\ 0 & \\mu \\end{smallmatrix} \\right) \\right) \\in (\\mathop{SL}_2 \\times \\mathop{SL}_2)(k) $. Multiplying by its inverse concludes the proof."
   ]
  },
  {
   "cell_type": "code",
   "execution_count": 13,
   "metadata": {},
   "outputs": [
    {
     "data": {
      "text/html": [
       "<html><script type=\"math/tex; mode=display\">\\newcommand{\\Bold}[1]{\\mathbf{#1}}\\left(\\begin{array}{rrrr}\n",
       "1 & 0 & 0 & 0 \\\\\n",
       "0 & 1 & 0 & 0 \\\\\n",
       "0 & 0 & 1 & 0 \\\\\n",
       "0 & 0 & 0 & 1\n",
       "\\end{array}\\right)</script></html>"
      ],
      "text/plain": [
       "[1 0 0 0]\n",
       "[0 1 0 0]\n",
       "[0 0 1 0]\n",
       "[0 0 0 1]"
      ]
     },
     "metadata": {},
     "output_type": "display_data"
    }
   ],
   "source": [
    "mu = k(sqrt(state.m[1, 1]))\n",
    "state.step((diagonal_matrix([1/mu, mu]), diagonal_matrix([mu, 1/mu])))"
   ]
  },
  {
   "cell_type": "markdown",
   "metadata": {},
   "source": [
    "Then inverting the two matrices gives the lift for $ m $."
   ]
  },
  {
   "cell_type": "code",
   "execution_count": 14,
   "metadata": {},
   "outputs": [
    {
     "data": {
      "text/html": [
       "<html><script type=\"math/tex; mode=display\">\\newcommand{\\Bold}[1]{\\mathbf{#1}}\\left(\\left(\\begin{array}{rr}\n",
       "0 & -i \\\\\n",
       "-i & 0\n",
       "\\end{array}\\right), \\left(\\begin{array}{rr}\n",
       "-i & 0 \\\\\n",
       "0 & i\n",
       "\\end{array}\\right)\\right)</script></html>"
      ],
      "text/plain": [
       "(\n",
       "[ 0 -I]  [-I  0]\n",
       "[-I  0], [ 0  I]\n",
       ")"
      ]
     },
     "execution_count": 14,
     "metadata": {},
     "output_type": "execute_result"
    }
   ],
   "source": [
    "(lift1, lift2) = state.t; (lift1, lift2)"
   ]
  },
  {
   "cell_type": "code",
   "execution_count": 15,
   "metadata": {},
   "outputs": [
    {
     "data": {
      "text/html": [
       "<html><script type=\"math/tex; mode=display\">\\newcommand{\\Bold}[1]{\\mathbf{#1}}\\left(\\left(\\begin{array}{rr}\n",
       "0 & i \\\\\n",
       "i & 0\n",
       "\\end{array}\\right), \\left(\\begin{array}{rr}\n",
       "i & 0 \\\\\n",
       "0 & -i\n",
       "\\end{array}\\right)\\right)</script></html>"
      ],
      "text/plain": [
       "(\n",
       "[0 I]  [ I  0]\n",
       "[I 0], [ 0 -I]\n",
       ")"
      ]
     },
     "execution_count": 15,
     "metadata": {},
     "output_type": "execute_result"
    }
   ],
   "source": [
    "(lift1.inverse(), lift2.inverse())"
   ]
  },
  {
   "cell_type": "code",
   "execution_count": 16,
   "metadata": {},
   "outputs": [
    {
     "data": {
      "text/html": [
       "<html><script type=\"math/tex; mode=display\">\\newcommand{\\Bold}[1]{\\mathbf{#1}}\\left(\\left(\\begin{array}{rrrr}\n",
       "0 & 0 & -1 & 0 \\\\\n",
       "0 & 0 & 0 & 1 \\\\\n",
       "-1 & 0 & 0 & 0 \\\\\n",
       "0 & 1 & 0 & 0\n",
       "\\end{array}\\right), \\left(\\begin{array}{rrrr}\n",
       "0 & 0 & -1 & 0 \\\\\n",
       "0 & 0 & 0 & 1 \\\\\n",
       "-1 & 0 & 0 & 0 \\\\\n",
       "0 & 1 & 0 & 0\n",
       "\\end{array}\\right)\\right)</script></html>"
      ],
      "text/plain": [
       "(\n",
       "[ 0  0 -1  0]  [ 0  0 -1  0]\n",
       "[ 0  0  0  1]  [ 0  0  0  1]\n",
       "[-1  0  0  0]  [-1  0  0  0]\n",
       "[ 0  1  0  0], [ 0  1  0  0]\n",
       ")"
      ]
     },
     "execution_count": 16,
     "metadata": {},
     "output_type": "execute_result"
    }
   ],
   "source": [
    "(m0, state.project(lift1.inverse(), lift2.inverse()))"
   ]
  }
 ],
 "metadata": {
  "kernelspec": {
   "display_name": "SageMath 9.0",
   "language": "sage",
   "name": "sagemath"
  },
  "language_info": {
   "codemirror_mode": {
    "name": "ipython",
    "version": 3
   },
   "file_extension": ".py",
   "mimetype": "text/x-python",
   "name": "python",
   "nbconvert_exporter": "python",
   "pygments_lexer": "ipython3",
   "version": "3.8.10"
  }
 },
 "nbformat": 4,
 "nbformat_minor": 4
}
