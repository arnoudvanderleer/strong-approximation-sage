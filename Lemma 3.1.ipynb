{
 "cells": [
  {
   "cell_type": "code",
   "execution_count": 13,
   "metadata": {},
   "outputs": [],
   "source": [
    "%display latex"
   ]
  },
  {
   "cell_type": "code",
   "execution_count": 14,
   "metadata": {},
   "outputs": [],
   "source": [
    "import algorithm_states, common"
   ]
  },
  {
   "cell_type": "markdown",
   "metadata": {},
   "source": [
    "We start with a $ n \\times n $-matrix $ m $."
   ]
  },
  {
   "cell_type": "code",
   "execution_count": 15,
   "metadata": {},
   "outputs": [
    {
     "data": {
      "text/html": [
       "<html><script type=\"math/tex; mode=display\">\\newcommand{\\Bold}[1]{\\mathbf{#1}}\\left(\\begin{array}{rrr}\n",
       "2 & 9 & 7 \\\\\n",
       "1 & 4 & 7 \\\\\n",
       "2 & 3 & 8\n",
       "\\end{array}\\right)</script></html>"
      ],
      "text/plain": [
       "[2 9 7]\n",
       "[1 4 7]\n",
       "[2 3 8]"
      ]
     },
     "execution_count": 15,
     "metadata": {},
     "output_type": "execute_result"
    }
   ],
   "source": [
    "l = 10\n",
    "n = 3\n",
    "m0 = matrix(SL(n, Integers(l)).random_element()); m0"
   ]
  },
  {
   "cell_type": "code",
   "execution_count": 26,
   "metadata": {},
   "outputs": [],
   "source": [
    "state = algorithm_states.SLnState(m0)"
   ]
  },
  {
   "cell_type": "markdown",
   "metadata": {},
   "source": [
    "Note that we can lift elements of $ \\mathbb Z / l \\mathbb Z $ to $ \\mathbb Z $ such that they end up between $ 0 $ and $ l - 1 $.\n",
    "Take $ i $ and $ j $ such that the lift of $ m_{1i} $ is less than or equal to $ m_{1j} $. Then subtract $ m_{1i} $ from $ m_{1j} $. This decreases the sum of their lifts. Since this sum is finite, if we do this repeatedly, all but one of the $ m_{1j} $ will become $ 0 $ in a finite number of steps."
   ]
  },
  {
   "cell_type": "code",
   "execution_count": 27,
   "metadata": {
    "scrolled": false
   },
   "outputs": [
    {
     "name": "stdout",
     "output_type": "stream",
     "text": [
      "Subtract 1 times column 2 from 1\n"
     ]
    },
    {
     "data": {
      "text/html": [
       "<html><script type=\"math/tex; mode=display\">\\newcommand{\\Bold}[1]{\\mathbf{#1}}\\left(\\begin{array}{rrr}\n",
       "2 & 2 & 7 \\\\\n",
       "1 & 7 & 7 \\\\\n",
       "2 & 5 & 8\n",
       "\\end{array}\\right)</script></html>"
      ],
      "text/plain": [
       "[2 2 7]\n",
       "[1 7 7]\n",
       "[2 5 8]"
      ]
     },
     "metadata": {},
     "output_type": "display_data"
    },
    {
     "name": "stdout",
     "output_type": "stream",
     "text": [
      "Subtract 3 times column 1 from 2\n"
     ]
    },
    {
     "data": {
      "text/html": [
       "<html><script type=\"math/tex; mode=display\">\\newcommand{\\Bold}[1]{\\mathbf{#1}}\\left(\\begin{array}{rrr}\n",
       "2 & 2 & 1 \\\\\n",
       "1 & 7 & 6 \\\\\n",
       "2 & 5 & 3\n",
       "\\end{array}\\right)</script></html>"
      ],
      "text/plain": [
       "[2 2 1]\n",
       "[1 7 6]\n",
       "[2 5 3]"
      ]
     },
     "metadata": {},
     "output_type": "display_data"
    },
    {
     "name": "stdout",
     "output_type": "stream",
     "text": [
      "Subtract 1 times column 0 from 1\n"
     ]
    },
    {
     "data": {
      "text/html": [
       "<html><script type=\"math/tex; mode=display\">\\newcommand{\\Bold}[1]{\\mathbf{#1}}\\left(\\begin{array}{rrr}\n",
       "2 & 0 & 1 \\\\\n",
       "1 & 6 & 6 \\\\\n",
       "2 & 3 & 3\n",
       "\\end{array}\\right)</script></html>"
      ],
      "text/plain": [
       "[2 0 1]\n",
       "[1 6 6]\n",
       "[2 3 3]"
      ]
     },
     "metadata": {},
     "output_type": "display_data"
    },
    {
     "name": "stdout",
     "output_type": "stream",
     "text": [
      "Subtract 2 times column 2 from 0\n"
     ]
    },
    {
     "data": {
      "text/html": [
       "<html><script type=\"math/tex; mode=display\">\\newcommand{\\Bold}[1]{\\mathbf{#1}}\\left(\\begin{array}{rrr}\n",
       "0 & 0 & 1 \\\\\n",
       "9 & 6 & 6 \\\\\n",
       "6 & 3 & 3\n",
       "\\end{array}\\right)</script></html>"
      ],
      "text/plain": [
       "[0 0 1]\n",
       "[9 6 6]\n",
       "[6 3 3]"
      ]
     },
     "metadata": {},
     "output_type": "display_data"
    }
   ],
   "source": [
    "while len([i for i in range(n) if state.m[0, i] != 0]) > 1:\n",
    "    columns = sorted([(ZZ(state.m[0, i]), i) for i in range(n)], reverse = True)\n",
    "    source = columns[1][1]\n",
    "    target = columns[0][1]\n",
    "    factor = columns[0][0] // columns[1][0]\n",
    "    state.add_column(source, target, scale = -factor, description = f\"Subtract {factor} times column {source} from {target}\")"
   ]
  },
  {
   "cell_type": "markdown",
   "metadata": {},
   "source": [
    "Let $ m_{1i} $ be the nonzero value. If $ i \\not = n $, we add $ m_{1i} $ to $ m_{1n} $ and then subtract $ m_{1n} $ from $ m_{1i} $."
   ]
  },
  {
   "cell_type": "code",
   "execution_count": 28,
   "metadata": {},
   "outputs": [],
   "source": [
    "if state.m[0, n - 1] == 0:\n",
    "    i = [i for i in range(n) if state.m[0, i] != 0][0]\n",
    "    state.switch_columns(i, n - 1)"
   ]
  },
  {
   "cell_type": "markdown",
   "metadata": {},
   "source": [
    "Let $ a $ be the determinant of the bottom left $ (n-1) \\times (n-1) $ submatrix. Note that $ m_{1n} a = 1 $. Add $ a $ times $ m_{1n} $ to $ m_{11} $, which makes sure that $ m_{11} = 1 $. Then subtract $ m_{1n} $ times $ m_{11} $ from $ m_{1n} $. Also, subtract $ m_{i1} $ times $ m_{11} $ from $ m_{i1} $ for all $ i \\geq 2 $."
   ]
  },
  {
   "cell_type": "code",
   "execution_count": 29,
   "metadata": {},
   "outputs": [
    {
     "data": {
      "text/html": [
       "<html><script type=\"math/tex; mode=display\">\\newcommand{\\Bold}[1]{\\mathbf{#1}}\\left(\\begin{array}{rrr}\n",
       "1 & 0 & 1 \\\\\n",
       "5 & 6 & 6 \\\\\n",
       "9 & 3 & 3\n",
       "\\end{array}\\right)</script></html>"
      ],
      "text/plain": [
       "[1 0 1]\n",
       "[5 6 6]\n",
       "[9 3 3]"
      ]
     },
     "metadata": {},
     "output_type": "display_data"
    }
   ],
   "source": [
    "state.add_column(n - 1, 0, scale = ZZ(1 / state.m[0, n - 1]))"
   ]
  },
  {
   "cell_type": "code",
   "execution_count": 30,
   "metadata": {},
   "outputs": [
    {
     "data": {
      "text/html": [
       "<html><script type=\"math/tex; mode=display\">\\newcommand{\\Bold}[1]{\\mathbf{#1}}\\left(\\begin{array}{rrr}\n",
       "1 & 0 & 0 \\\\\n",
       "5 & 6 & 1 \\\\\n",
       "9 & 3 & 4\n",
       "\\end{array}\\right)</script></html>"
      ],
      "text/plain": [
       "[1 0 0]\n",
       "[5 6 1]\n",
       "[9 3 4]"
      ]
     },
     "metadata": {},
     "output_type": "display_data"
    }
   ],
   "source": [
    "state.add_column(0, n - 1, scale = -state.m[0, n - 1])"
   ]
  },
  {
   "cell_type": "code",
   "execution_count": 31,
   "metadata": {},
   "outputs": [
    {
     "name": "stdout",
     "output_type": "stream",
     "text": [
      "Make entry (0, 1) equal to 0\n"
     ]
    },
    {
     "data": {
      "text/html": [
       "<html><script type=\"math/tex; mode=display\">\\newcommand{\\Bold}[1]{\\mathbf{#1}}\\left(\\begin{array}{rrr}\n",
       "1 & 0 & 0 \\\\\n",
       "0 & 6 & 1 \\\\\n",
       "9 & 3 & 4\n",
       "\\end{array}\\right)</script></html>"
      ],
      "text/plain": [
       "[1 0 0]\n",
       "[0 6 1]\n",
       "[9 3 4]"
      ]
     },
     "metadata": {},
     "output_type": "display_data"
    },
    {
     "name": "stdout",
     "output_type": "stream",
     "text": [
      "Make entry (0, 2) equal to 0\n"
     ]
    },
    {
     "data": {
      "text/html": [
       "<html><script type=\"math/tex; mode=display\">\\newcommand{\\Bold}[1]{\\mathbf{#1}}\\left(\\begin{array}{rrr}\n",
       "1 & 0 & 0 \\\\\n",
       "0 & 6 & 1 \\\\\n",
       "0 & 3 & 4\n",
       "\\end{array}\\right)</script></html>"
      ],
      "text/plain": [
       "[1 0 0]\n",
       "[0 6 1]\n",
       "[0 3 4]"
      ]
     },
     "metadata": {},
     "output_type": "display_data"
    }
   ],
   "source": [
    "for i in range(1, n):\n",
    "    state.add_row(0, i, scale = -state.m[i, 0], description = f\"Make entry (0, {i}) equal to 0\")"
   ]
  },
  {
   "cell_type": "markdown",
   "metadata": {},
   "source": [
    "Note that the bottom right $ (n - 1) \\times (n - 1) $ submatrix is an element of $ \\mathop{SL}_{n-1}(\\mathbb Z / l \\mathbb Z) $. Repeating the above for this submatrix (induction) gives the identity matrix."
   ]
  },
  {
   "cell_type": "code",
   "execution_count": 32,
   "metadata": {},
   "outputs": [
    {
     "name": "stdout",
     "output_type": "stream",
     "text": [
      "Subtract 6 times column 2 from 1\n"
     ]
    },
    {
     "data": {
      "text/html": [
       "<html><script type=\"math/tex; mode=display\">\\newcommand{\\Bold}[1]{\\mathbf{#1}}\\left(\\begin{array}{rrr}\n",
       "1 & 0 & 0 \\\\\n",
       "0 & 0 & 1 \\\\\n",
       "0 & 9 & 4\n",
       "\\end{array}\\right)</script></html>"
      ],
      "text/plain": [
       "[1 0 0]\n",
       "[0 0 1]\n",
       "[0 9 4]"
      ]
     },
     "metadata": {},
     "output_type": "display_data"
    },
    {
     "name": "stdout",
     "output_type": "stream",
     "text": [
      "Make entry (1, 1) equal to 1\n"
     ]
    },
    {
     "data": {
      "text/html": [
       "<html><script type=\"math/tex; mode=display\">\\newcommand{\\Bold}[1]{\\mathbf{#1}}\\left(\\begin{array}{rrr}\n",
       "1 & 0 & 0 \\\\\n",
       "0 & 1 & 1 \\\\\n",
       "0 & 3 & 4\n",
       "\\end{array}\\right)</script></html>"
      ],
      "text/plain": [
       "[1 0 0]\n",
       "[0 1 1]\n",
       "[0 3 4]"
      ]
     },
     "metadata": {},
     "output_type": "display_data"
    },
    {
     "name": "stdout",
     "output_type": "stream",
     "text": [
      "Make entry (1, 2) equal to 0\n"
     ]
    },
    {
     "data": {
      "text/html": [
       "<html><script type=\"math/tex; mode=display\">\\newcommand{\\Bold}[1]{\\mathbf{#1}}\\left(\\begin{array}{rrr}\n",
       "1 & 0 & 0 \\\\\n",
       "0 & 1 & 0 \\\\\n",
       "0 & 3 & 1\n",
       "\\end{array}\\right)</script></html>"
      ],
      "text/plain": [
       "[1 0 0]\n",
       "[0 1 0]\n",
       "[0 3 1]"
      ]
     },
     "metadata": {},
     "output_type": "display_data"
    },
    {
     "name": "stdout",
     "output_type": "stream",
     "text": [
      "Make entry (2, 1) equal to zero\n"
     ]
    },
    {
     "data": {
      "text/html": [
       "<html><script type=\"math/tex; mode=display\">\\newcommand{\\Bold}[1]{\\mathbf{#1}}\\left(\\begin{array}{rrr}\n",
       "1 & 0 & 0 \\\\\n",
       "0 & 1 & 0 \\\\\n",
       "0 & 0 & 1\n",
       "\\end{array}\\right)</script></html>"
      ],
      "text/plain": [
       "[1 0 0]\n",
       "[0 1 0]\n",
       "[0 0 1]"
      ]
     },
     "metadata": {},
     "output_type": "display_data"
    }
   ],
   "source": [
    "for j in range(1, n - 1):\n",
    "    while len([i for i in range(n) if state.m[j, i] != 0]) > 1:\n",
    "        columns = sorted([(ZZ(state.m[j, i]), i) for i in range(n)], reverse = True)\n",
    "        source = columns[1][1]\n",
    "        target = columns[0][1]\n",
    "        factor = columns[0][0] // columns[1][0]\n",
    "        state.add_column(source, target, scale = -factor, description = f\"Subtract {factor} times column {source} from {target}\")\n",
    "        \n",
    "    if state.m[j, n - 1] == 0:\n",
    "        i = [i for i in range(n) if state.m[j, i] != 0][0]\n",
    "        state.switch_column(i, n - 1, description = f\"Switch columns {i} and {n - 1}\")\n",
    "        \n",
    "    state.add_column(n - 1, j, scale = ZZ(1 / state.m[j, n - 1]), description = f\"Make entry ({j}, {j}) equal to 1\")\n",
    "    \n",
    "    state.add_column(j, n - 1, scale = -state.m[j, n - 1], description = f\"Make entry ({j}, {n - 1}) equal to 0\")\n",
    "    \n",
    "    for i in range(j + 1, n):\n",
    "        state.add_row(j, i, scale = -state.m[i, j], description = f\"Make entry ({i}, {j}) equal to zero\")"
   ]
  },
  {
   "cell_type": "code",
   "execution_count": 33,
   "metadata": {},
   "outputs": [
    {
     "data": {
      "text/html": [
       "<html><script type=\"math/tex; mode=display\">\\newcommand{\\Bold}[1]{\\mathbf{#1}}\\left(\\left(\\begin{array}{rrr}\n",
       "1 & 0 & 0 \\\\\n",
       "5 & 1 & 0 \\\\\n",
       "36 & 7 & 1\n",
       "\\end{array}\\right), \\left(\\begin{array}{rrr}\n",
       "1 & -46 & -405 \\\\\n",
       "3 & -119 & -1047 \\\\\n",
       "-4 & 159 & 1399\n",
       "\\end{array}\\right)\\right)</script></html>"
      ],
      "text/plain": [
       "(\n",
       "[ 1  0  0]  [    1   -46  -405]\n",
       "[ 5  1  0]  [    3  -119 -1047]\n",
       "[36  7  1], [   -4   159  1399]\n",
       ")"
      ]
     },
     "execution_count": 33,
     "metadata": {},
     "output_type": "execute_result"
    }
   ],
   "source": [
    "left_lift, right_lift = state.t; state.t"
   ]
  },
  {
   "cell_type": "code",
   "execution_count": 34,
   "metadata": {},
   "outputs": [
    {
     "data": {
      "text/html": [
       "<html><script type=\"math/tex; mode=display\">\\newcommand{\\Bold}[1]{\\mathbf{#1}}\\left(\\begin{array}{rrr}\n",
       "-8 & -41 & -33 \\\\\n",
       "31 & -16 & -3 \\\\\n",
       "72 & 1613 & 1228\n",
       "\\end{array}\\right)</script></html>"
      ],
      "text/plain": [
       "[  -8  -41  -33]\n",
       "[  31  -16   -3]\n",
       "[  72 1613 1228]"
      ]
     },
     "execution_count": 34,
     "metadata": {},
     "output_type": "execute_result"
    }
   ],
   "source": [
    "(left_lift.inverse() * right_lift.inverse())"
   ]
  },
  {
   "cell_type": "code",
   "execution_count": 35,
   "metadata": {},
   "outputs": [
    {
     "data": {
      "text/html": [
       "<html><script type=\"math/tex; mode=display\">\\newcommand{\\Bold}[1]{\\mathbf{#1}}\\left(\\left(\\begin{array}{rrr}\n",
       "2 & 9 & 7 \\\\\n",
       "1 & 4 & 7 \\\\\n",
       "2 & 3 & 8\n",
       "\\end{array}\\right), \\left(\\begin{array}{rrr}\n",
       "2 & 9 & 7 \\\\\n",
       "1 & 4 & 7 \\\\\n",
       "2 & 3 & 8\n",
       "\\end{array}\\right)\\right)</script></html>"
      ],
      "text/plain": [
       "(\n",
       "[2 9 7]  [2 9 7]\n",
       "[1 4 7]  [1 4 7]\n",
       "[2 3 8], [2 3 8]\n",
       ")"
      ]
     },
     "execution_count": 35,
     "metadata": {},
     "output_type": "execute_result"
    }
   ],
   "source": [
    "(m0, (left_lift.inverse() * right_lift.inverse()).change_ring(Integers(l)))"
   ]
  }
 ],
 "metadata": {
  "kernelspec": {
   "display_name": "SageMath 9.0",
   "language": "sage",
   "name": "sagemath"
  },
  "language_info": {
   "codemirror_mode": {
    "name": "ipython",
    "version": 3
   },
   "file_extension": ".py",
   "mimetype": "text/x-python",
   "name": "python",
   "nbconvert_exporter": "python",
   "pygments_lexer": "ipython3",
   "version": "3.8.10"
  }
 },
 "nbformat": 4,
 "nbformat_minor": 4
}
