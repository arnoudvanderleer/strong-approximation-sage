{
 "cells": [
  {
   "cell_type": "code",
   "execution_count": 1,
   "metadata": {},
   "outputs": [],
   "source": [
    "%display latex"
   ]
  },
  {
   "cell_type": "code",
   "execution_count": 2,
   "metadata": {},
   "outputs": [],
   "source": [
    "import algorithm_states, common"
   ]
  },
  {
   "cell_type": "markdown",
   "metadata": {},
   "source": [
    "We start with a matrix $ m $ and a model improvement $ t $."
   ]
  },
  {
   "cell_type": "code",
   "execution_count": 3,
   "metadata": {},
   "outputs": [
    {
     "data": {
      "text/html": [
       "<html><script type=\"math/tex; mode=display\">\\newcommand{\\Bold}[1]{\\mathbf{#1}}2^{2}</script></html>"
      ],
      "text/plain": [
       "2^2"
      ]
     },
     "execution_count": 3,
     "metadata": {},
     "output_type": "execute_result"
    }
   ],
   "source": [
    "dim = 6\n",
    "p = 5\n",
    "m0 = diagonal_matrix([-10, -10, -5, 5, 5, -5])\n",
    "t0 = matrix([\n",
    "    [0, 0, 2/5, -1/5, -1/5, 2/15],\n",
    "    [0, 0, -3/5, -1/5, 0, 0],\n",
    "    [0, 0, 2/5, -1/5, 2/5, -4/15],\n",
    "    [-1/5, 6/35, 0, 0, 0, 0],\n",
    "    [0, 0, 0, 0, 4/5, -1/5],\n",
    "    [-6/5, 1/35, 0, 0, 0, 0]\n",
    "])\n",
    "(t0.transpose() * m0 * t0).determinant().factor()"
   ]
  },
  {
   "cell_type": "markdown",
   "metadata": {},
   "source": [
    "Initialization of variables"
   ]
  },
  {
   "cell_type": "code",
   "execution_count": 18,
   "metadata": {},
   "outputs": [],
   "source": [
    "state = algorithm_states.ModelImprovementState(m0, t0)\n",
    "s = []"
   ]
  },
  {
   "cell_type": "markdown",
   "metadata": {},
   "source": [
    "By Remark 4.2, we can exchange the first column with another column (if necessary) such that $ \\mathop{ord}_p(t_{*1}) \\leq \\mathop{ord}_p(t_{*j}) $ for all $ j $."
   ]
  },
  {
   "cell_type": "code",
   "execution_count": 19,
   "metadata": {},
   "outputs": [],
   "source": [
    "(o, j) = min((common.ord_vector(p, state.improvement, j), j) for j in range(0, dim))\n",
    "if o < common.ord_vector(p, state.improvement, 0):\n",
    "    state.switch_columns(j, 0)"
   ]
  },
  {
   "cell_type": "markdown",
   "metadata": {},
   "source": [
    "Take $ s_1 = \\mathop{ord}_p(t_{*1}) $."
   ]
  },
  {
   "cell_type": "code",
   "execution_count": 20,
   "metadata": {},
   "outputs": [
    {
     "data": {
      "text/html": [
       "<html><script type=\"math/tex; mode=display\">\\newcommand{\\Bold}[1]{\\mathbf{#1}}-1</script></html>"
      ],
      "text/plain": [
       "-1"
      ]
     },
     "execution_count": 20,
     "metadata": {},
     "output_type": "execute_result"
    }
   ],
   "source": [
    "s.append(common.ord_vector(p, state.improvement, 0)); s[0]"
   ]
  },
  {
   "cell_type": "markdown",
   "metadata": {},
   "source": [
    "We can also exchange the first row with another row (if necessary) such that $ \\mathop{ord}_p(t_{11}) = s_1 $ (and perform the same exchange on these rows and columns of $ m $)."
   ]
  },
  {
   "cell_type": "code",
   "execution_count": 21,
   "metadata": {},
   "outputs": [
    {
     "data": {
      "text/html": [
       "<html><script type=\"math/tex; mode=display\">\\newcommand{\\Bold}[1]{\\mathbf{#1}}\\left(\\left(\\begin{array}{rrrrrr}\n",
       "5 & 0 & 0 & 0 & 0 & 0 \\\\\n",
       "0 & -10 & 0 & 0 & 0 & 0 \\\\\n",
       "0 & 0 & -5 & 0 & 0 & 0 \\\\\n",
       "0 & 0 & 0 & -10 & 0 & 0 \\\\\n",
       "0 & 0 & 0 & 0 & 5 & 0 \\\\\n",
       "0 & 0 & 0 & 0 & 0 & -5\n",
       "\\end{array}\\right), \\left(\\begin{array}{rrrrrr}\n",
       "-\\frac{1}{5} & \\frac{6}{35} & 0 & 0 & 0 & 0 \\\\\n",
       "0 & 0 & -\\frac{3}{5} & -\\frac{1}{5} & 0 & 0 \\\\\n",
       "0 & 0 & \\frac{2}{5} & -\\frac{1}{5} & \\frac{2}{5} & -\\frac{4}{15} \\\\\n",
       "0 & 0 & -\\frac{2}{5} & \\frac{1}{5} & \\frac{1}{5} & -\\frac{2}{15} \\\\\n",
       "0 & 0 & 0 & 0 & \\frac{4}{5} & -\\frac{1}{5} \\\\\n",
       "-\\frac{6}{5} & \\frac{1}{35} & 0 & 0 & 0 & 0\n",
       "\\end{array}\\right)\\right)</script></html>"
      ],
      "text/plain": [
       "(\n",
       "[  5   0   0   0   0   0]  [ -1/5  6/35     0     0     0     0]\n",
       "[  0 -10   0   0   0   0]  [    0     0  -3/5  -1/5     0     0]\n",
       "[  0   0  -5   0   0   0]  [    0     0   2/5  -1/5   2/5 -4/15]\n",
       "[  0   0   0 -10   0   0]  [    0     0  -2/5   1/5   1/5 -2/15]\n",
       "[  0   0   0   0   5   0]  [    0     0     0     0   4/5  -1/5]\n",
       "[  0   0   0   0   0  -5], [ -6/5  1/35     0     0     0     0]\n",
       ")"
      ]
     },
     "metadata": {},
     "output_type": "display_data"
    }
   ],
   "source": [
    "(o, j) = min((common.ord(p, state.improvement[j, 0]), j) for j in range(0, dim))\n",
    "if o < common.ord(p, state.improvement[0, 0]):\n",
    "    state.switch_rows(j, 0)"
   ]
  },
  {
   "cell_type": "markdown",
   "metadata": {},
   "source": [
    "Note that $ p^{-s_1} t_{11} \\in \\mathbb Z_p^* $, so we can divide the first column by it, to obtain $ t_{11} = p^{s_1} $."
   ]
  },
  {
   "cell_type": "code",
   "execution_count": 22,
   "metadata": {},
   "outputs": [
    {
     "data": {
      "text/html": [
       "<html><script type=\"math/tex; mode=display\">\\newcommand{\\Bold}[1]{\\mathbf{#1}}\\left(\\left(\\begin{array}{rrrrrr}\n",
       "5 & 0 & 0 & 0 & 0 & 0 \\\\\n",
       "0 & -10 & 0 & 0 & 0 & 0 \\\\\n",
       "0 & 0 & -5 & 0 & 0 & 0 \\\\\n",
       "0 & 0 & 0 & -10 & 0 & 0 \\\\\n",
       "0 & 0 & 0 & 0 & 5 & 0 \\\\\n",
       "0 & 0 & 0 & 0 & 0 & -5\n",
       "\\end{array}\\right), \\left(\\begin{array}{rrrrrr}\n",
       "\\frac{1}{5} & \\frac{6}{35} & 0 & 0 & 0 & 0 \\\\\n",
       "0 & 0 & -\\frac{3}{5} & -\\frac{1}{5} & 0 & 0 \\\\\n",
       "0 & 0 & \\frac{2}{5} & -\\frac{1}{5} & \\frac{2}{5} & -\\frac{4}{15} \\\\\n",
       "0 & 0 & -\\frac{2}{5} & \\frac{1}{5} & \\frac{1}{5} & -\\frac{2}{15} \\\\\n",
       "0 & 0 & 0 & 0 & \\frac{4}{5} & -\\frac{1}{5} \\\\\n",
       "\\frac{6}{5} & \\frac{1}{35} & 0 & 0 & 0 & 0\n",
       "\\end{array}\\right)\\right)</script></html>"
      ],
      "text/plain": [
       "(\n",
       "[  5   0   0   0   0   0]  [  1/5  6/35     0     0     0     0]\n",
       "[  0 -10   0   0   0   0]  [    0     0  -3/5  -1/5     0     0]\n",
       "[  0   0  -5   0   0   0]  [    0     0   2/5  -1/5   2/5 -4/15]\n",
       "[  0   0   0 -10   0   0]  [    0     0  -2/5   1/5   1/5 -2/15]\n",
       "[  0   0   0   0   5   0]  [    0     0     0     0   4/5  -1/5]\n",
       "[  0   0   0   0   0  -5], [  6/5  1/35     0     0     0     0]\n",
       ")"
      ]
     },
     "metadata": {},
     "output_type": "display_data"
    }
   ],
   "source": [
    "state.step((identity_matrix(dim), elementary_matrix(QQ, dim, row1=0, scale=p^s[0] / state.improvement[0, 0])))"
   ]
  },
  {
   "cell_type": "markdown",
   "metadata": {},
   "source": [
    "Since $ s_1 = \\mathop{ord}_p(t_{*1}) \\leq \\mathop{ord}_p(t_{*2}) \\leq \\mathop{ord}_p(t_{12}) $, we have $ p^{-s_1} t_{12} \\in \\mathbb Z_p $. Therefore, we can subtract $ p^{-s_1} t_{12} $ times $ t_{11} $ from $ t_{12} $ to get $ t_{12} = 0 $.\n",
    "\n",
    "In the same way, we can make sure that $ t_{1j} = 0 $ for all $ j \\geq 2 $."
   ]
  },
  {
   "cell_type": "code",
   "execution_count": 23,
   "metadata": {},
   "outputs": [
    {
     "name": "stdout",
     "output_type": "stream",
     "text": [
      "Make entry (0, 1) equal to 0\n"
     ]
    },
    {
     "data": {
      "text/html": [
       "<html><script type=\"math/tex; mode=display\">\\newcommand{\\Bold}[1]{\\mathbf{#1}}\\left(\\left(\\begin{array}{rrrrrr}\n",
       "5 & 0 & 0 & 0 & 0 & 0 \\\\\n",
       "0 & -10 & 0 & 0 & 0 & 0 \\\\\n",
       "0 & 0 & -5 & 0 & 0 & 0 \\\\\n",
       "0 & 0 & 0 & -10 & 0 & 0 \\\\\n",
       "0 & 0 & 0 & 0 & 5 & 0 \\\\\n",
       "0 & 0 & 0 & 0 & 0 & -5\n",
       "\\end{array}\\right), \\left(\\begin{array}{rrrrrr}\n",
       "\\frac{1}{5} & 0 & 0 & 0 & 0 & 0 \\\\\n",
       "0 & 0 & -\\frac{3}{5} & -\\frac{1}{5} & 0 & 0 \\\\\n",
       "0 & 0 & \\frac{2}{5} & -\\frac{1}{5} & \\frac{2}{5} & -\\frac{4}{15} \\\\\n",
       "0 & 0 & -\\frac{2}{5} & \\frac{1}{5} & \\frac{1}{5} & -\\frac{2}{15} \\\\\n",
       "0 & 0 & 0 & 0 & \\frac{4}{5} & -\\frac{1}{5} \\\\\n",
       "\\frac{6}{5} & -1 & 0 & 0 & 0 & 0\n",
       "\\end{array}\\right)\\right)</script></html>"
      ],
      "text/plain": [
       "(\n",
       "[  5   0   0   0   0   0]  [  1/5     0     0     0     0     0]\n",
       "[  0 -10   0   0   0   0]  [    0     0  -3/5  -1/5     0     0]\n",
       "[  0   0  -5   0   0   0]  [    0     0   2/5  -1/5   2/5 -4/15]\n",
       "[  0   0   0 -10   0   0]  [    0     0  -2/5   1/5   1/5 -2/15]\n",
       "[  0   0   0   0   5   0]  [    0     0     0     0   4/5  -1/5]\n",
       "[  0   0   0   0   0  -5], [  6/5    -1     0     0     0     0]\n",
       ")"
      ]
     },
     "metadata": {},
     "output_type": "display_data"
    }
   ],
   "source": [
    "for i in range(1, dim):\n",
    "    state.add_column(0, i, -state.improvement[0, i] / state.improvement[0, 0], f\"Make entry ({0}, {i}) equal to 0\")"
   ]
  },
  {
   "cell_type": "markdown",
   "metadata": {},
   "source": [
    "Note that by doing this, the $ \\mathop{ord}_p(t_{*j}) $ can only increase, so they will stay larger than $ \\mathop{ord}_p(t_{*1}) $.\n",
    "\n",
    "We can repeat the above for the second through $ n $th columns (by induction), to make sure that for all $ i < j $, $ t_{ij} = 0 $ and for all $ i $, $ t_{ii} = p^{s_i} $."
   ]
  },
  {
   "cell_type": "code",
   "execution_count": 24,
   "metadata": {
    "scrolled": false
   },
   "outputs": [
    {
     "name": "stdout",
     "output_type": "stream",
     "text": [
      "Make the order of column 1 minimal\n"
     ]
    },
    {
     "data": {
      "text/html": [
       "<html><script type=\"math/tex; mode=display\">\\newcommand{\\Bold}[1]{\\mathbf{#1}}\\left(\\left(\\begin{array}{rrrrrr}\n",
       "5 & 0 & 0 & 0 & 0 & 0 \\\\\n",
       "0 & -10 & 0 & 0 & 0 & 0 \\\\\n",
       "0 & 0 & -5 & 0 & 0 & 0 \\\\\n",
       "0 & 0 & 0 & -10 & 0 & 0 \\\\\n",
       "0 & 0 & 0 & 0 & 5 & 0 \\\\\n",
       "0 & 0 & 0 & 0 & 0 & -5\n",
       "\\end{array}\\right), \\left(\\begin{array}{rrrrrr}\n",
       "\\frac{1}{5} & 0 & 0 & 0 & 0 & 0 \\\\\n",
       "0 & -\\frac{3}{5} & 0 & -\\frac{1}{5} & 0 & 0 \\\\\n",
       "0 & \\frac{2}{5} & 0 & -\\frac{1}{5} & \\frac{2}{5} & -\\frac{4}{15} \\\\\n",
       "0 & -\\frac{2}{5} & 0 & \\frac{1}{5} & \\frac{1}{5} & -\\frac{2}{15} \\\\\n",
       "0 & 0 & 0 & 0 & \\frac{4}{5} & -\\frac{1}{5} \\\\\n",
       "\\frac{6}{5} & 0 & 1 & 0 & 0 & 0\n",
       "\\end{array}\\right)\\right)</script></html>"
      ],
      "text/plain": [
       "(\n",
       "[  5   0   0   0   0   0]  [  1/5     0     0     0     0     0]\n",
       "[  0 -10   0   0   0   0]  [    0  -3/5     0  -1/5     0     0]\n",
       "[  0   0  -5   0   0   0]  [    0   2/5     0  -1/5   2/5 -4/15]\n",
       "[  0   0   0 -10   0   0]  [    0  -2/5     0   1/5   1/5 -2/15]\n",
       "[  0   0   0   0   5   0]  [    0     0     0     0   4/5  -1/5]\n",
       "[  0   0   0   0   0  -5], [  6/5     0     1     0     0     0]\n",
       ")"
      ]
     },
     "metadata": {},
     "output_type": "display_data"
    },
    {
     "name": "stdout",
     "output_type": "stream",
     "text": [
      "Convert entry (1, 1) to the form p^s\n"
     ]
    },
    {
     "data": {
      "text/html": [
       "<html><script type=\"math/tex; mode=display\">\\newcommand{\\Bold}[1]{\\mathbf{#1}}\\left(\\left(\\begin{array}{rrrrrr}\n",
       "5 & 0 & 0 & 0 & 0 & 0 \\\\\n",
       "0 & -10 & 0 & 0 & 0 & 0 \\\\\n",
       "0 & 0 & -5 & 0 & 0 & 0 \\\\\n",
       "0 & 0 & 0 & -10 & 0 & 0 \\\\\n",
       "0 & 0 & 0 & 0 & 5 & 0 \\\\\n",
       "0 & 0 & 0 & 0 & 0 & -5\n",
       "\\end{array}\\right), \\left(\\begin{array}{rrrrrr}\n",
       "\\frac{1}{5} & 0 & 0 & 0 & 0 & 0 \\\\\n",
       "0 & \\frac{1}{5} & 0 & -\\frac{1}{5} & 0 & 0 \\\\\n",
       "0 & -\\frac{2}{15} & 0 & -\\frac{1}{5} & \\frac{2}{5} & -\\frac{4}{15} \\\\\n",
       "0 & \\frac{2}{15} & 0 & \\frac{1}{5} & \\frac{1}{5} & -\\frac{2}{15} \\\\\n",
       "0 & 0 & 0 & 0 & \\frac{4}{5} & -\\frac{1}{5} \\\\\n",
       "\\frac{6}{5} & 0 & 1 & 0 & 0 & 0\n",
       "\\end{array}\\right)\\right)</script></html>"
      ],
      "text/plain": [
       "(\n",
       "[  5   0   0   0   0   0]  [  1/5     0     0     0     0     0]\n",
       "[  0 -10   0   0   0   0]  [    0   1/5     0  -1/5     0     0]\n",
       "[  0   0  -5   0   0   0]  [    0 -2/15     0  -1/5   2/5 -4/15]\n",
       "[  0   0   0 -10   0   0]  [    0  2/15     0   1/5   1/5 -2/15]\n",
       "[  0   0   0   0   5   0]  [    0     0     0     0   4/5  -1/5]\n",
       "[  0   0   0   0   0  -5], [  6/5     0     1     0     0     0]\n",
       ")"
      ]
     },
     "metadata": {},
     "output_type": "display_data"
    },
    {
     "name": "stdout",
     "output_type": "stream",
     "text": [
      "Make entry (1, 3) equal to 0\n"
     ]
    },
    {
     "data": {
      "text/html": [
       "<html><script type=\"math/tex; mode=display\">\\newcommand{\\Bold}[1]{\\mathbf{#1}}\\left(\\left(\\begin{array}{rrrrrr}\n",
       "5 & 0 & 0 & 0 & 0 & 0 \\\\\n",
       "0 & -10 & 0 & 0 & 0 & 0 \\\\\n",
       "0 & 0 & -5 & 0 & 0 & 0 \\\\\n",
       "0 & 0 & 0 & -10 & 0 & 0 \\\\\n",
       "0 & 0 & 0 & 0 & 5 & 0 \\\\\n",
       "0 & 0 & 0 & 0 & 0 & -5\n",
       "\\end{array}\\right), \\left(\\begin{array}{rrrrrr}\n",
       "\\frac{1}{5} & 0 & 0 & 0 & 0 & 0 \\\\\n",
       "0 & \\frac{1}{5} & 0 & 0 & 0 & 0 \\\\\n",
       "0 & -\\frac{2}{15} & 0 & -\\frac{1}{3} & \\frac{2}{5} & -\\frac{4}{15} \\\\\n",
       "0 & \\frac{2}{15} & 0 & \\frac{1}{3} & \\frac{1}{5} & -\\frac{2}{15} \\\\\n",
       "0 & 0 & 0 & 0 & \\frac{4}{5} & -\\frac{1}{5} \\\\\n",
       "\\frac{6}{5} & 0 & 1 & 0 & 0 & 0\n",
       "\\end{array}\\right)\\right)</script></html>"
      ],
      "text/plain": [
       "(\n",
       "[  5   0   0   0   0   0]  [  1/5     0     0     0     0     0]\n",
       "[  0 -10   0   0   0   0]  [    0   1/5     0     0     0     0]\n",
       "[  0   0  -5   0   0   0]  [    0 -2/15     0  -1/3   2/5 -4/15]\n",
       "[  0   0   0 -10   0   0]  [    0  2/15     0   1/3   1/5 -2/15]\n",
       "[  0   0   0   0   5   0]  [    0     0     0     0   4/5  -1/5]\n",
       "[  0   0   0   0   0  -5], [  6/5     0     1     0     0     0]\n",
       ")"
      ]
     },
     "metadata": {},
     "output_type": "display_data"
    },
    {
     "name": "stdout",
     "output_type": "stream",
     "text": [
      "Make the order of column 2 minimal\n"
     ]
    },
    {
     "data": {
      "text/html": [
       "<html><script type=\"math/tex; mode=display\">\\newcommand{\\Bold}[1]{\\mathbf{#1}}\\left(\\left(\\begin{array}{rrrrrr}\n",
       "5 & 0 & 0 & 0 & 0 & 0 \\\\\n",
       "0 & -10 & 0 & 0 & 0 & 0 \\\\\n",
       "0 & 0 & -5 & 0 & 0 & 0 \\\\\n",
       "0 & 0 & 0 & -10 & 0 & 0 \\\\\n",
       "0 & 0 & 0 & 0 & 5 & 0 \\\\\n",
       "0 & 0 & 0 & 0 & 0 & -5\n",
       "\\end{array}\\right), \\left(\\begin{array}{rrrrrr}\n",
       "\\frac{1}{5} & 0 & 0 & 0 & 0 & 0 \\\\\n",
       "0 & \\frac{1}{5} & 0 & 0 & 0 & 0 \\\\\n",
       "0 & -\\frac{2}{15} & \\frac{2}{5} & -\\frac{1}{3} & 0 & -\\frac{4}{15} \\\\\n",
       "0 & \\frac{2}{15} & \\frac{1}{5} & \\frac{1}{3} & 0 & -\\frac{2}{15} \\\\\n",
       "0 & 0 & \\frac{4}{5} & 0 & 0 & -\\frac{1}{5} \\\\\n",
       "\\frac{6}{5} & 0 & 0 & 0 & -1 & 0\n",
       "\\end{array}\\right)\\right)</script></html>"
      ],
      "text/plain": [
       "(\n",
       "[  5   0   0   0   0   0]  [  1/5     0     0     0     0     0]\n",
       "[  0 -10   0   0   0   0]  [    0   1/5     0     0     0     0]\n",
       "[  0   0  -5   0   0   0]  [    0 -2/15   2/5  -1/3     0 -4/15]\n",
       "[  0   0   0 -10   0   0]  [    0  2/15   1/5   1/3     0 -2/15]\n",
       "[  0   0   0   0   5   0]  [    0     0   4/5     0     0  -1/5]\n",
       "[  0   0   0   0   0  -5], [  6/5     0     0     0    -1     0]\n",
       ")"
      ]
     },
     "metadata": {},
     "output_type": "display_data"
    },
    {
     "name": "stdout",
     "output_type": "stream",
     "text": [
      "Convert entry (2, 2) to the form p^s\n"
     ]
    },
    {
     "data": {
      "text/html": [
       "<html><script type=\"math/tex; mode=display\">\\newcommand{\\Bold}[1]{\\mathbf{#1}}\\left(\\left(\\begin{array}{rrrrrr}\n",
       "5 & 0 & 0 & 0 & 0 & 0 \\\\\n",
       "0 & -10 & 0 & 0 & 0 & 0 \\\\\n",
       "0 & 0 & -5 & 0 & 0 & 0 \\\\\n",
       "0 & 0 & 0 & -10 & 0 & 0 \\\\\n",
       "0 & 0 & 0 & 0 & 5 & 0 \\\\\n",
       "0 & 0 & 0 & 0 & 0 & -5\n",
       "\\end{array}\\right), \\left(\\begin{array}{rrrrrr}\n",
       "\\frac{1}{5} & 0 & 0 & 0 & 0 & 0 \\\\\n",
       "0 & \\frac{1}{5} & 0 & 0 & 0 & 0 \\\\\n",
       "0 & -\\frac{2}{15} & \\frac{1}{5} & -\\frac{1}{3} & 0 & -\\frac{4}{15} \\\\\n",
       "0 & \\frac{2}{15} & \\frac{1}{10} & \\frac{1}{3} & 0 & -\\frac{2}{15} \\\\\n",
       "0 & 0 & \\frac{2}{5} & 0 & 0 & -\\frac{1}{5} \\\\\n",
       "\\frac{6}{5} & 0 & 0 & 0 & -1 & 0\n",
       "\\end{array}\\right)\\right)</script></html>"
      ],
      "text/plain": [
       "(\n",
       "[  5   0   0   0   0   0]  [  1/5     0     0     0     0     0]\n",
       "[  0 -10   0   0   0   0]  [    0   1/5     0     0     0     0]\n",
       "[  0   0  -5   0   0   0]  [    0 -2/15   1/5  -1/3     0 -4/15]\n",
       "[  0   0   0 -10   0   0]  [    0  2/15  1/10   1/3     0 -2/15]\n",
       "[  0   0   0   0   5   0]  [    0     0   2/5     0     0  -1/5]\n",
       "[  0   0   0   0   0  -5], [  6/5     0     0     0    -1     0]\n",
       ")"
      ]
     },
     "metadata": {},
     "output_type": "display_data"
    },
    {
     "name": "stdout",
     "output_type": "stream",
     "text": [
      "Make entry (2, 3) equal to 0\n"
     ]
    },
    {
     "data": {
      "text/html": [
       "<html><script type=\"math/tex; mode=display\">\\newcommand{\\Bold}[1]{\\mathbf{#1}}\\left(\\left(\\begin{array}{rrrrrr}\n",
       "5 & 0 & 0 & 0 & 0 & 0 \\\\\n",
       "0 & -10 & 0 & 0 & 0 & 0 \\\\\n",
       "0 & 0 & -5 & 0 & 0 & 0 \\\\\n",
       "0 & 0 & 0 & -10 & 0 & 0 \\\\\n",
       "0 & 0 & 0 & 0 & 5 & 0 \\\\\n",
       "0 & 0 & 0 & 0 & 0 & -5\n",
       "\\end{array}\\right), \\left(\\begin{array}{rrrrrr}\n",
       "\\frac{1}{5} & 0 & 0 & 0 & 0 & 0 \\\\\n",
       "0 & \\frac{1}{5} & 0 & 0 & 0 & 0 \\\\\n",
       "0 & -\\frac{2}{15} & \\frac{1}{5} & 0 & 0 & -\\frac{4}{15} \\\\\n",
       "0 & \\frac{2}{15} & \\frac{1}{10} & \\frac{1}{2} & 0 & -\\frac{2}{15} \\\\\n",
       "0 & 0 & \\frac{2}{5} & \\frac{2}{3} & 0 & -\\frac{1}{5} \\\\\n",
       "\\frac{6}{5} & 0 & 0 & 0 & -1 & 0\n",
       "\\end{array}\\right)\\right)</script></html>"
      ],
      "text/plain": [
       "(\n",
       "[  5   0   0   0   0   0]  [  1/5     0     0     0     0     0]\n",
       "[  0 -10   0   0   0   0]  [    0   1/5     0     0     0     0]\n",
       "[  0   0  -5   0   0   0]  [    0 -2/15   1/5     0     0 -4/15]\n",
       "[  0   0   0 -10   0   0]  [    0  2/15  1/10   1/2     0 -2/15]\n",
       "[  0   0   0   0   5   0]  [    0     0   2/5   2/3     0  -1/5]\n",
       "[  0   0   0   0   0  -5], [  6/5     0     0     0    -1     0]\n",
       ")"
      ]
     },
     "metadata": {},
     "output_type": "display_data"
    },
    {
     "name": "stdout",
     "output_type": "stream",
     "text": [
      "Make entry (2, 5) equal to 0\n"
     ]
    },
    {
     "data": {
      "text/html": [
       "<html><script type=\"math/tex; mode=display\">\\newcommand{\\Bold}[1]{\\mathbf{#1}}\\left(\\left(\\begin{array}{rrrrrr}\n",
       "5 & 0 & 0 & 0 & 0 & 0 \\\\\n",
       "0 & -10 & 0 & 0 & 0 & 0 \\\\\n",
       "0 & 0 & -5 & 0 & 0 & 0 \\\\\n",
       "0 & 0 & 0 & -10 & 0 & 0 \\\\\n",
       "0 & 0 & 0 & 0 & 5 & 0 \\\\\n",
       "0 & 0 & 0 & 0 & 0 & -5\n",
       "\\end{array}\\right), \\left(\\begin{array}{rrrrrr}\n",
       "\\frac{1}{5} & 0 & 0 & 0 & 0 & 0 \\\\\n",
       "0 & \\frac{1}{5} & 0 & 0 & 0 & 0 \\\\\n",
       "0 & -\\frac{2}{15} & \\frac{1}{5} & 0 & 0 & 0 \\\\\n",
       "0 & \\frac{2}{15} & \\frac{1}{10} & \\frac{1}{2} & 0 & 0 \\\\\n",
       "0 & 0 & \\frac{2}{5} & \\frac{2}{3} & 0 & \\frac{1}{3} \\\\\n",
       "\\frac{6}{5} & 0 & 0 & 0 & -1 & 0\n",
       "\\end{array}\\right)\\right)</script></html>"
      ],
      "text/plain": [
       "(\n",
       "[  5   0   0   0   0   0]  [  1/5     0     0     0     0     0]\n",
       "[  0 -10   0   0   0   0]  [    0   1/5     0     0     0     0]\n",
       "[  0   0  -5   0   0   0]  [    0 -2/15   1/5     0     0     0]\n",
       "[  0   0   0 -10   0   0]  [    0  2/15  1/10   1/2     0     0]\n",
       "[  0   0   0   0   5   0]  [    0     0   2/5   2/3     0   1/3]\n",
       "[  0   0   0   0   0  -5], [  6/5     0     0     0    -1     0]\n",
       ")"
      ]
     },
     "metadata": {},
     "output_type": "display_data"
    },
    {
     "name": "stdout",
     "output_type": "stream",
     "text": [
      "Convert entry (3, 3) to the form p^s\n"
     ]
    },
    {
     "data": {
      "text/html": [
       "<html><script type=\"math/tex; mode=display\">\\newcommand{\\Bold}[1]{\\mathbf{#1}}\\left(\\left(\\begin{array}{rrrrrr}\n",
       "5 & 0 & 0 & 0 & 0 & 0 \\\\\n",
       "0 & -10 & 0 & 0 & 0 & 0 \\\\\n",
       "0 & 0 & -5 & 0 & 0 & 0 \\\\\n",
       "0 & 0 & 0 & -10 & 0 & 0 \\\\\n",
       "0 & 0 & 0 & 0 & 5 & 0 \\\\\n",
       "0 & 0 & 0 & 0 & 0 & -5\n",
       "\\end{array}\\right), \\left(\\begin{array}{rrrrrr}\n",
       "\\frac{1}{5} & 0 & 0 & 0 & 0 & 0 \\\\\n",
       "0 & \\frac{1}{5} & 0 & 0 & 0 & 0 \\\\\n",
       "0 & -\\frac{2}{15} & \\frac{1}{5} & 0 & 0 & 0 \\\\\n",
       "0 & \\frac{2}{15} & \\frac{1}{10} & 1 & 0 & 0 \\\\\n",
       "0 & 0 & \\frac{2}{5} & \\frac{4}{3} & 0 & \\frac{1}{3} \\\\\n",
       "\\frac{6}{5} & 0 & 0 & 0 & -1 & 0\n",
       "\\end{array}\\right)\\right)</script></html>"
      ],
      "text/plain": [
       "(\n",
       "[  5   0   0   0   0   0]  [  1/5     0     0     0     0     0]\n",
       "[  0 -10   0   0   0   0]  [    0   1/5     0     0     0     0]\n",
       "[  0   0  -5   0   0   0]  [    0 -2/15   1/5     0     0     0]\n",
       "[  0   0   0 -10   0   0]  [    0  2/15  1/10     1     0     0]\n",
       "[  0   0   0   0   5   0]  [    0     0   2/5   4/3     0   1/3]\n",
       "[  0   0   0   0   0  -5], [  6/5     0     0     0    -1     0]\n",
       ")"
      ]
     },
     "metadata": {},
     "output_type": "display_data"
    },
    {
     "name": "stdout",
     "output_type": "stream",
     "text": [
      "Make the order of entry (4, 4) minimal\n"
     ]
    },
    {
     "data": {
      "text/html": [
       "<html><script type=\"math/tex; mode=display\">\\newcommand{\\Bold}[1]{\\mathbf{#1}}\\left(\\left(\\begin{array}{rrrrrr}\n",
       "5 & 0 & 0 & 0 & 0 & 0 \\\\\n",
       "0 & -10 & 0 & 0 & 0 & 0 \\\\\n",
       "0 & 0 & -5 & 0 & 0 & 0 \\\\\n",
       "0 & 0 & 0 & -10 & 0 & 0 \\\\\n",
       "0 & 0 & 0 & 0 & -5 & 0 \\\\\n",
       "0 & 0 & 0 & 0 & 0 & 5\n",
       "\\end{array}\\right), \\left(\\begin{array}{rrrrrr}\n",
       "\\frac{1}{5} & 0 & 0 & 0 & 0 & 0 \\\\\n",
       "0 & \\frac{1}{5} & 0 & 0 & 0 & 0 \\\\\n",
       "0 & -\\frac{2}{15} & \\frac{1}{5} & 0 & 0 & 0 \\\\\n",
       "0 & \\frac{2}{15} & \\frac{1}{10} & 1 & 0 & 0 \\\\\n",
       "\\frac{6}{5} & 0 & 0 & 0 & -1 & 0 \\\\\n",
       "0 & 0 & -\\frac{2}{5} & -\\frac{4}{3} & 0 & -\\frac{1}{3}\n",
       "\\end{array}\\right)\\right)</script></html>"
      ],
      "text/plain": [
       "(\n",
       "[  5   0   0   0   0   0]  [  1/5     0     0     0     0     0]\n",
       "[  0 -10   0   0   0   0]  [    0   1/5     0     0     0     0]\n",
       "[  0   0  -5   0   0   0]  [    0 -2/15   1/5     0     0     0]\n",
       "[  0   0   0 -10   0   0]  [    0  2/15  1/10     1     0     0]\n",
       "[  0   0   0   0  -5   0]  [  6/5     0     0     0    -1     0]\n",
       "[  0   0   0   0   0   5], [    0     0  -2/5  -4/3     0  -1/3]\n",
       ")"
      ]
     },
     "metadata": {},
     "output_type": "display_data"
    },
    {
     "name": "stdout",
     "output_type": "stream",
     "text": [
      "Convert entry (4, 4) to the form p^s\n"
     ]
    },
    {
     "data": {
      "text/html": [
       "<html><script type=\"math/tex; mode=display\">\\newcommand{\\Bold}[1]{\\mathbf{#1}}\\left(\\left(\\begin{array}{rrrrrr}\n",
       "5 & 0 & 0 & 0 & 0 & 0 \\\\\n",
       "0 & -10 & 0 & 0 & 0 & 0 \\\\\n",
       "0 & 0 & -5 & 0 & 0 & 0 \\\\\n",
       "0 & 0 & 0 & -10 & 0 & 0 \\\\\n",
       "0 & 0 & 0 & 0 & -5 & 0 \\\\\n",
       "0 & 0 & 0 & 0 & 0 & 5\n",
       "\\end{array}\\right), \\left(\\begin{array}{rrrrrr}\n",
       "\\frac{1}{5} & 0 & 0 & 0 & 0 & 0 \\\\\n",
       "0 & \\frac{1}{5} & 0 & 0 & 0 & 0 \\\\\n",
       "0 & -\\frac{2}{15} & \\frac{1}{5} & 0 & 0 & 0 \\\\\n",
       "0 & \\frac{2}{15} & \\frac{1}{10} & 1 & 0 & 0 \\\\\n",
       "\\frac{6}{5} & 0 & 0 & 0 & 1 & 0 \\\\\n",
       "0 & 0 & -\\frac{2}{5} & -\\frac{4}{3} & 0 & -\\frac{1}{3}\n",
       "\\end{array}\\right)\\right)</script></html>"
      ],
      "text/plain": [
       "(\n",
       "[  5   0   0   0   0   0]  [  1/5     0     0     0     0     0]\n",
       "[  0 -10   0   0   0   0]  [    0   1/5     0     0     0     0]\n",
       "[  0   0  -5   0   0   0]  [    0 -2/15   1/5     0     0     0]\n",
       "[  0   0   0 -10   0   0]  [    0  2/15  1/10     1     0     0]\n",
       "[  0   0   0   0  -5   0]  [  6/5     0     0     0     1     0]\n",
       "[  0   0   0   0   0   5], [    0     0  -2/5  -4/3     0  -1/3]\n",
       ")"
      ]
     },
     "metadata": {},
     "output_type": "display_data"
    },
    {
     "name": "stdout",
     "output_type": "stream",
     "text": [
      "Convert entry (5, 5) to the form p^s\n"
     ]
    },
    {
     "data": {
      "text/html": [
       "<html><script type=\"math/tex; mode=display\">\\newcommand{\\Bold}[1]{\\mathbf{#1}}\\left(\\left(\\begin{array}{rrrrrr}\n",
       "5 & 0 & 0 & 0 & 0 & 0 \\\\\n",
       "0 & -10 & 0 & 0 & 0 & 0 \\\\\n",
       "0 & 0 & -5 & 0 & 0 & 0 \\\\\n",
       "0 & 0 & 0 & -10 & 0 & 0 \\\\\n",
       "0 & 0 & 0 & 0 & -5 & 0 \\\\\n",
       "0 & 0 & 0 & 0 & 0 & 5\n",
       "\\end{array}\\right), \\left(\\begin{array}{rrrrrr}\n",
       "\\frac{1}{5} & 0 & 0 & 0 & 0 & 0 \\\\\n",
       "0 & \\frac{1}{5} & 0 & 0 & 0 & 0 \\\\\n",
       "0 & -\\frac{2}{15} & \\frac{1}{5} & 0 & 0 & 0 \\\\\n",
       "0 & \\frac{2}{15} & \\frac{1}{10} & 1 & 0 & 0 \\\\\n",
       "\\frac{6}{5} & 0 & 0 & 0 & 1 & 0 \\\\\n",
       "0 & 0 & -\\frac{2}{5} & -\\frac{4}{3} & 0 & 1\n",
       "\\end{array}\\right)\\right)</script></html>"
      ],
      "text/plain": [
       "(\n",
       "[  5   0   0   0   0   0]  [  1/5     0     0     0     0     0]\n",
       "[  0 -10   0   0   0   0]  [    0   1/5     0     0     0     0]\n",
       "[  0   0  -5   0   0   0]  [    0 -2/15   1/5     0     0     0]\n",
       "[  0   0   0 -10   0   0]  [    0  2/15  1/10     1     0     0]\n",
       "[  0   0   0   0  -5   0]  [  6/5     0     0     0     1     0]\n",
       "[  0   0   0   0   0   5], [    0     0  -2/5  -4/3     0     1]\n",
       ")"
      ]
     },
     "metadata": {},
     "output_type": "display_data"
    }
   ],
   "source": [
    "for i in range(1, dim):\n",
    "    (o, j) = min((common.ord_vector(p, state.improvement, j), j) for j in range(i, dim))\n",
    "    if o < common.ord_vector(p, state.improvement, i):\n",
    "        state.switch_columns(j, i, description = f\"Make the order of column {i} minimal\")\n",
    "        \n",
    "    s.append(common.ord_vector(p, state.improvement, i))\n",
    "    \n",
    "    (o, j) = min((common.ord(p, state.improvement[j, i]), j) for j in range(i, dim))\n",
    "    if o < common.ord(p, state.improvement[i, i]):\n",
    "        state.switch_rows(j, i, description = f\"Make the order of entry ({i}, {i}) minimal\")\n",
    "    \n",
    "    state.step((identity_matrix(dim), elementary_matrix(QQ, dim, row1=i, scale=p^s[i] / state.improvement[i, i])), description = f\"Convert entry ({i}, {i}) to the form p^s\")\n",
    "    \n",
    "    for j in range(i + 1, dim):\n",
    "        state.add_column(i, j, -state.improvement[i, j] / state.improvement[i, i], f\"Make entry ({i}, {j}) equal to 0\")"
   ]
  },
  {
   "cell_type": "markdown",
   "metadata": {},
   "source": [
    "Note that $ t s^{-1} $ is a lower triangular matrix with entries in $ \\mathbb Z_p $ and all $ 1 $s on the diagonal. Taking $ r^\\prime = t s^{-1} $, we can trivially find a matrix $ r $ as in the first part of Lemma 4.4 with all $ 1 $s on the diagonal."
   ]
  },
  {
   "cell_type": "code",
   "execution_count": 25,
   "metadata": {},
   "outputs": [],
   "source": [
    "s_matrix = diagonal_matrix(QQ, [p^n for n in s])"
   ]
  },
  {
   "cell_type": "code",
   "execution_count": 26,
   "metadata": {},
   "outputs": [
    {
     "data": {
      "text/html": [
       "<html><script type=\"math/tex; mode=display\">\\newcommand{\\Bold}[1]{\\mathbf{#1}}\\left(\\begin{array}{rrrrrr}\n",
       "1 & 0 & 0 & 0 & 0 & 0 \\\\\n",
       "0 & 1 & 0 & 0 & 0 & 0 \\\\\n",
       "0 & 16 & 1 & 0 & 0 & 0 \\\\\n",
       "0 & 9 & 13 & 1 & 0 & 0 \\\\\n",
       "6 & 0 & 0 & 0 & 1 & 0 \\\\\n",
       "0 & 0 & 23 & 7 & 0 & 1\n",
       "\\end{array}\\right)</script></html>"
      ],
      "text/plain": [
       "[ 1  0  0  0  0  0]\n",
       "[ 0  1  0  0  0  0]\n",
       "[ 0 16  1  0  0  0]\n",
       "[ 0  9 13  1  0  0]\n",
       "[ 6  0  0  0  1  0]\n",
       "[ 0  0 23  7  0  1]"
      ]
     },
     "execution_count": 26,
     "metadata": {},
     "output_type": "execute_result"
    }
   ],
   "source": [
    "r = (state.improvement * s_matrix.inverse()).apply_map(lambda x: ZZ(Integers(p^(-2 * s[0]))(x))); r"
   ]
  },
  {
   "cell_type": "code",
   "execution_count": 28,
   "metadata": {},
   "outputs": [
    {
     "data": {
      "text/html": [
       "<html><script type=\"math/tex; mode=display\">\\newcommand{\\Bold}[1]{\\mathbf{#1}}\\left(\\begin{array}{rrrrrr}\n",
       "0 & -\\frac{9}{5} & -\\frac{13}{5} & -1 & 0 & 0 \\\\\n",
       "0 & \\frac{1}{5} & 0 & 0 & 0 & 0 \\\\\n",
       "0 & \\frac{16}{5} & \\frac{1}{5} & 0 & 0 & 0 \\\\\n",
       "\\frac{1}{5} & 0 & 0 & 0 & 0 & 0 \\\\\n",
       "0 & 0 & -\\frac{23}{5} & -7 & 0 & -1 \\\\\n",
       "\\frac{6}{5} & 0 & 0 & 0 & 1 & 0\n",
       "\\end{array}\\right)</script></html>"
      ],
      "text/plain": [
       "[    0  -9/5 -13/5    -1     0     0]\n",
       "[    0   1/5     0     0     0     0]\n",
       "[    0  16/5   1/5     0     0     0]\n",
       "[  1/5     0     0     0     0     0]\n",
       "[    0     0 -23/5    -7     0    -1]\n",
       "[  6/5     0     0     0     1     0]"
      ]
     },
     "execution_count": 28,
     "metadata": {},
     "output_type": "execute_result"
    }
   ],
   "source": [
    "new_t = state.t[0].inverse() * r * s_matrix; new_t"
   ]
  },
  {
   "cell_type": "code",
   "execution_count": 29,
   "metadata": {},
   "outputs": [
    {
     "data": {
      "text/html": [
       "<html><script type=\"math/tex; mode=display\">\\newcommand{\\Bold}[1]{\\mathbf{#1}}\\left(\\begin{array}{rrrrrr}\n",
       "-7 & 0 & 0 & 0 & -6 & 0 \\\\\n",
       "0 & -84 & -50 & -18 & 0 & 0 \\\\\n",
       "0 & -50 & 38 & 135 & 0 & 23 \\\\\n",
       "0 & -18 & 135 & 235 & 0 & 35 \\\\\n",
       "-6 & 0 & 0 & 0 & -5 & 0 \\\\\n",
       "0 & 0 & 23 & 35 & 0 & 5\n",
       "\\end{array}\\right)</script></html>"
      ],
      "text/plain": [
       "[ -7   0   0   0  -6   0]\n",
       "[  0 -84 -50 -18   0   0]\n",
       "[  0 -50  38 135   0  23]\n",
       "[  0 -18 135 235   0  35]\n",
       "[ -6   0   0   0  -5   0]\n",
       "[  0   0  23  35   0   5]"
      ]
     },
     "execution_count": 29,
     "metadata": {},
     "output_type": "execute_result"
    }
   ],
   "source": [
    "new_t.transpose() * m0 * new_t"
   ]
  },
  {
   "cell_type": "code",
   "execution_count": 30,
   "metadata": {},
   "outputs": [
    {
     "data": {
      "text/html": [
       "<html><script type=\"math/tex; mode=display\">\\newcommand{\\Bold}[1]{\\mathbf{#1}}4</script></html>"
      ],
      "text/plain": [
       "4"
      ]
     },
     "execution_count": 30,
     "metadata": {},
     "output_type": "execute_result"
    }
   ],
   "source": [
    "(new_t.transpose() * m0 * new_t).determinant()"
   ]
  }
 ],
 "metadata": {
  "kernelspec": {
   "display_name": "SageMath 9.0",
   "language": "sage",
   "name": "sagemath"
  },
  "language_info": {
   "codemirror_mode": {
    "name": "ipython",
    "version": 3
   },
   "file_extension": ".py",
   "mimetype": "text/x-python",
   "name": "python",
   "nbconvert_exporter": "python",
   "pygments_lexer": "ipython3",
   "version": "3.8.10"
  }
 },
 "nbformat": 4,
 "nbformat_minor": 4
}
