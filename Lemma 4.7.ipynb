{
 "cells": [
  {
   "cell_type": "code",
   "execution_count": 2,
   "metadata": {},
   "outputs": [],
   "source": [
    "%display latex"
   ]
  },
  {
   "cell_type": "code",
   "execution_count": 3,
   "metadata": {},
   "outputs": [],
   "source": [
    "import algorithm_states"
   ]
  },
  {
   "cell_type": "code",
   "execution_count": 4,
   "metadata": {},
   "outputs": [
    {
     "data": {
      "text/html": [
       "<html><script type=\"math/tex; mode=display\">\\newcommand{\\Bold}[1]{\\mathbf{#1}}\\left(\\begin{array}{rrrrrr}\n",
       "-3 & 0 & 0 & 0 & 0 & 0 \\\\\n",
       "0 & -10707 & 0 & 0 & 0 & 0 \\\\\n",
       "0 & 0 & -7 & 0 & 0 & 0 \\\\\n",
       "0 & 0 & 0 & 7 & 0 & 0 \\\\\n",
       "0 & 0 & 0 & 0 & -13 & 0 \\\\\n",
       "0 & 0 & 0 & 0 & 0 & 3\n",
       "\\end{array}\\right)</script></html>"
      ],
      "text/plain": [
       "[    -3      0      0      0      0      0]\n",
       "[     0 -10707      0      0      0      0]\n",
       "[     0      0     -7      0      0      0]\n",
       "[     0      0      0      7      0      0]\n",
       "[     0      0      0      0    -13      0]\n",
       "[     0      0      0      0      0      3]"
      ]
     },
     "execution_count": 4,
     "metadata": {},
     "output_type": "execute_result"
    }
   ],
   "source": [
    "dim = 6\n",
    "m = diagonal_matrix([1 + (i // (dim // 2)) * 2 + ZZ.random_element() * 4 for i in range(dim)]); m"
   ]
  },
  {
   "cell_type": "code",
   "execution_count": 5,
   "metadata": {},
   "outputs": [],
   "source": [
    "state = algorithm_states.ModelState(m)"
   ]
  },
  {
   "cell_type": "markdown",
   "metadata": {},
   "source": [
    "We reorder the diagonal entries of $ m $ such that we get a block matrix, with diagonal blocks $ m_i = \\left( \\begin{smallmatrix} a_i & 0\\\\0 & b_i \\end{smallmatrix} \\right) $ and $ a_i \\equiv 1 \\mod 4 $ and $ b_i \\equiv 3 \\mod 4 $ for all $ i \\leq \\frac{n}{2} $."
   ]
  },
  {
   "cell_type": "code",
   "execution_count": 8,
   "metadata": {},
   "outputs": [
    {
     "name": "stdout",
     "output_type": "stream",
     "text": [
      "Make sure that entry (1, 1) has the correct parity\n"
     ]
    },
    {
     "data": {
      "text/html": [
       "<html><script type=\"math/tex; mode=display\">\\newcommand{\\Bold}[1]{\\mathbf{#1}}\\left(\\begin{array}{rrrrrr}\n",
       "-3 & 0 & 0 & 0 & 0 & 0 \\\\\n",
       "0 & 7 & 0 & 0 & 0 & 0 \\\\\n",
       "0 & 0 & -7 & 0 & 0 & 0 \\\\\n",
       "0 & 0 & 0 & -10707 & 0 & 0 \\\\\n",
       "0 & 0 & 0 & 0 & -13 & 0 \\\\\n",
       "0 & 0 & 0 & 0 & 0 & 3\n",
       "\\end{array}\\right)</script></html>"
      ],
      "text/plain": [
       "[    -3      0      0      0      0      0]\n",
       "[     0      7      0      0      0      0]\n",
       "[     0      0     -7      0      0      0]\n",
       "[     0      0      0 -10707      0      0]\n",
       "[     0      0      0      0    -13      0]\n",
       "[     0      0      0      0      0      3]"
      ]
     },
     "metadata": {},
     "output_type": "display_data"
    },
    {
     "name": "stdout",
     "output_type": "stream",
     "text": [
      "Make sure that entry (3, 3) has the correct parity\n"
     ]
    },
    {
     "data": {
      "text/html": [
       "<html><script type=\"math/tex; mode=display\">\\newcommand{\\Bold}[1]{\\mathbf{#1}}\\left(\\begin{array}{rrrrrr}\n",
       "-3 & 0 & 0 & 0 & 0 & 0 \\\\\n",
       "0 & 7 & 0 & 0 & 0 & 0 \\\\\n",
       "0 & 0 & -7 & 0 & 0 & 0 \\\\\n",
       "0 & 0 & 0 & -13 & 0 & 0 \\\\\n",
       "0 & 0 & 0 & 0 & -10707 & 0 \\\\\n",
       "0 & 0 & 0 & 0 & 0 & 3\n",
       "\\end{array}\\right)</script></html>"
      ],
      "text/plain": [
       "[    -3      0      0      0      0      0]\n",
       "[     0      7      0      0      0      0]\n",
       "[     0      0     -7      0      0      0]\n",
       "[     0      0      0    -13      0      0]\n",
       "[     0      0      0      0 -10707      0]\n",
       "[     0      0      0      0      0      3]"
      ]
     },
     "metadata": {},
     "output_type": "display_data"
    }
   ],
   "source": [
    "while len([i for i in range(0, state.dim) if (state.m[i, i] + 2 * i) % 4 != 1]) > 0:\n",
    "    i = [i for i in range(0, state.dim) if (state.m[i, i] + 2 * i) % 4 != 1][0]\n",
    "    j = [j for j in range(i, state.dim) if (state.m[j, j] + 2 * i) % 4 == 1][0]\n",
    "    state.switch_rows(j, i, description = f\"Make sure that entry ({i}, {i}) has the correct parity\")"
   ]
  },
  {
   "cell_type": "markdown",
   "metadata": {},
   "source": [
    "Then, we transform using a block matrix $ t $, with diagonal blocks $ t_i = \\left( \\begin{smallmatrix} 1 & \\frac{1}{2} \\\\ 0 & \\frac{1}{2} \\end{smallmatrix} \\right) $.\n",
    "\n",
    "Then we have $ t_i^T m_i t_i = \\left( \\begin{smallmatrix} a_i & \\frac{1}{2} a_i\\\\\\frac{1}{2} a_i & \\frac{1}{4}(a_i + b_i) \\end{smallmatrix} \\right) \\in Q(\\mathbb Z) $.\n",
    "\n",
    "Note that\n",
    "\n",
    "$\\det(2 t_i^T m_i t_i) = a^2 + \\frac{a(a+b)}{2} \\equiv 1 + 0 = 1 \\mod 2, $\n",
    "\n",
    "so $ \\det(2 t^T m t) \\equiv 1 \\mod 2 $ and $ t $ is a model improvement with respect to $ 2 $."
   ]
  },
  {
   "cell_type": "code",
   "execution_count": 9,
   "metadata": {
    "scrolled": false
   },
   "outputs": [
    {
     "name": "stdout",
     "output_type": "stream",
     "text": [
      "Add column 0 to 1\n"
     ]
    },
    {
     "data": {
      "text/html": [
       "<html><script type=\"math/tex; mode=display\">\\newcommand{\\Bold}[1]{\\mathbf{#1}}\\left(\\begin{array}{rrrrrr}\n",
       "-3 & -3 & 0 & 0 & 0 & 0 \\\\\n",
       "-3 & 4 & 0 & 0 & 0 & 0 \\\\\n",
       "0 & 0 & -7 & 0 & 0 & 0 \\\\\n",
       "0 & 0 & 0 & -13 & 0 & 0 \\\\\n",
       "0 & 0 & 0 & 0 & -10707 & 0 \\\\\n",
       "0 & 0 & 0 & 0 & 0 & 3\n",
       "\\end{array}\\right)</script></html>"
      ],
      "text/plain": [
       "[    -3     -3      0      0      0      0]\n",
       "[    -3      4      0      0      0      0]\n",
       "[     0      0     -7      0      0      0]\n",
       "[     0      0      0    -13      0      0]\n",
       "[     0      0      0      0 -10707      0]\n",
       "[     0      0      0      0      0      3]"
      ]
     },
     "metadata": {},
     "output_type": "display_data"
    },
    {
     "name": "stdout",
     "output_type": "stream",
     "text": [
      "Divide a factor 2 from column 1\n"
     ]
    },
    {
     "data": {
      "text/html": [
       "<html><script type=\"math/tex; mode=display\">\\newcommand{\\Bold}[1]{\\mathbf{#1}}\\left(\\begin{array}{rrrrrr}\n",
       "-3 & -\\frac{3}{2} & 0 & 0 & 0 & 0 \\\\\n",
       "-\\frac{3}{2} & 1 & 0 & 0 & 0 & 0 \\\\\n",
       "0 & 0 & -7 & 0 & 0 & 0 \\\\\n",
       "0 & 0 & 0 & -13 & 0 & 0 \\\\\n",
       "0 & 0 & 0 & 0 & -10707 & 0 \\\\\n",
       "0 & 0 & 0 & 0 & 0 & 3\n",
       "\\end{array}\\right)</script></html>"
      ],
      "text/plain": [
       "[    -3   -3/2      0      0      0      0]\n",
       "[  -3/2      1      0      0      0      0]\n",
       "[     0      0     -7      0      0      0]\n",
       "[     0      0      0    -13      0      0]\n",
       "[     0      0      0      0 -10707      0]\n",
       "[     0      0      0      0      0      3]"
      ]
     },
     "metadata": {},
     "output_type": "display_data"
    },
    {
     "name": "stdout",
     "output_type": "stream",
     "text": [
      "Add column 2 to 3\n"
     ]
    },
    {
     "data": {
      "text/html": [
       "<html><script type=\"math/tex; mode=display\">\\newcommand{\\Bold}[1]{\\mathbf{#1}}\\left(\\begin{array}{rrrrrr}\n",
       "-3 & -\\frac{3}{2} & 0 & 0 & 0 & 0 \\\\\n",
       "-\\frac{3}{2} & 1 & 0 & 0 & 0 & 0 \\\\\n",
       "0 & 0 & -7 & -7 & 0 & 0 \\\\\n",
       "0 & 0 & -7 & -20 & 0 & 0 \\\\\n",
       "0 & 0 & 0 & 0 & -10707 & 0 \\\\\n",
       "0 & 0 & 0 & 0 & 0 & 3\n",
       "\\end{array}\\right)</script></html>"
      ],
      "text/plain": [
       "[    -3   -3/2      0      0      0      0]\n",
       "[  -3/2      1      0      0      0      0]\n",
       "[     0      0     -7     -7      0      0]\n",
       "[     0      0     -7    -20      0      0]\n",
       "[     0      0      0      0 -10707      0]\n",
       "[     0      0      0      0      0      3]"
      ]
     },
     "metadata": {},
     "output_type": "display_data"
    },
    {
     "name": "stdout",
     "output_type": "stream",
     "text": [
      "Divide a factor 2 from column 3\n"
     ]
    },
    {
     "data": {
      "text/html": [
       "<html><script type=\"math/tex; mode=display\">\\newcommand{\\Bold}[1]{\\mathbf{#1}}\\left(\\begin{array}{rrrrrr}\n",
       "-3 & -\\frac{3}{2} & 0 & 0 & 0 & 0 \\\\\n",
       "-\\frac{3}{2} & 1 & 0 & 0 & 0 & 0 \\\\\n",
       "0 & 0 & -7 & -\\frac{7}{2} & 0 & 0 \\\\\n",
       "0 & 0 & -\\frac{7}{2} & -5 & 0 & 0 \\\\\n",
       "0 & 0 & 0 & 0 & -10707 & 0 \\\\\n",
       "0 & 0 & 0 & 0 & 0 & 3\n",
       "\\end{array}\\right)</script></html>"
      ],
      "text/plain": [
       "[    -3   -3/2      0      0      0      0]\n",
       "[  -3/2      1      0      0      0      0]\n",
       "[     0      0     -7   -7/2      0      0]\n",
       "[     0      0   -7/2     -5      0      0]\n",
       "[     0      0      0      0 -10707      0]\n",
       "[     0      0      0      0      0      3]"
      ]
     },
     "metadata": {},
     "output_type": "display_data"
    },
    {
     "name": "stdout",
     "output_type": "stream",
     "text": [
      "Add column 4 to 5\n"
     ]
    },
    {
     "data": {
      "text/html": [
       "<html><script type=\"math/tex; mode=display\">\\newcommand{\\Bold}[1]{\\mathbf{#1}}\\left(\\begin{array}{rrrrrr}\n",
       "-3 & -\\frac{3}{2} & 0 & 0 & 0 & 0 \\\\\n",
       "-\\frac{3}{2} & 1 & 0 & 0 & 0 & 0 \\\\\n",
       "0 & 0 & -7 & -\\frac{7}{2} & 0 & 0 \\\\\n",
       "0 & 0 & -\\frac{7}{2} & -5 & 0 & 0 \\\\\n",
       "0 & 0 & 0 & 0 & -10707 & -10707 \\\\\n",
       "0 & 0 & 0 & 0 & -10707 & -10704\n",
       "\\end{array}\\right)</script></html>"
      ],
      "text/plain": [
       "[    -3   -3/2      0      0      0      0]\n",
       "[  -3/2      1      0      0      0      0]\n",
       "[     0      0     -7   -7/2      0      0]\n",
       "[     0      0   -7/2     -5      0      0]\n",
       "[     0      0      0      0 -10707 -10707]\n",
       "[     0      0      0      0 -10707 -10704]"
      ]
     },
     "metadata": {},
     "output_type": "display_data"
    },
    {
     "name": "stdout",
     "output_type": "stream",
     "text": [
      "Divide a factor 2 from column 5\n"
     ]
    },
    {
     "data": {
      "text/html": [
       "<html><script type=\"math/tex; mode=display\">\\newcommand{\\Bold}[1]{\\mathbf{#1}}\\left(\\begin{array}{rrrrrr}\n",
       "-3 & -\\frac{3}{2} & 0 & 0 & 0 & 0 \\\\\n",
       "-\\frac{3}{2} & 1 & 0 & 0 & 0 & 0 \\\\\n",
       "0 & 0 & -7 & -\\frac{7}{2} & 0 & 0 \\\\\n",
       "0 & 0 & -\\frac{7}{2} & -5 & 0 & 0 \\\\\n",
       "0 & 0 & 0 & 0 & -10707 & -\\frac{10707}{2} \\\\\n",
       "0 & 0 & 0 & 0 & -\\frac{10707}{2} & -2676\n",
       "\\end{array}\\right)</script></html>"
      ],
      "text/plain": [
       "[      -3     -3/2        0        0        0        0]\n",
       "[    -3/2        1        0        0        0        0]\n",
       "[       0        0       -7     -7/2        0        0]\n",
       "[       0        0     -7/2       -5        0        0]\n",
       "[       0        0        0        0   -10707 -10707/2]\n",
       "[       0        0        0        0 -10707/2    -2676]"
      ]
     },
     "metadata": {},
     "output_type": "display_data"
    }
   ],
   "source": [
    "for i in range(0, dim // 2):\n",
    "    state.add_row(2 * i, 2 * i + 1, description = f\"Add column {2 * i} to {2 * i + 1}\")\n",
    "    state.step(elementary_matrix(QQ, dim, row1 = 2 * i + 1, scale = 1 / 2), description = f\"Divide a factor 2 from column {2 * i + 1}\")"
   ]
  },
  {
   "cell_type": "code",
   "execution_count": 10,
   "metadata": {},
   "outputs": [
    {
     "data": {
      "text/html": [
       "<html><script type=\"math/tex; mode=display\">\\newcommand{\\Bold}[1]{\\mathbf{#1}}\\left(\\begin{array}{rrrrrr}\n",
       "1 & \\frac{1}{2} & 0 & 0 & 0 & 0 \\\\\n",
       "0 & 0 & 0 & 0 & 1 & \\frac{1}{2} \\\\\n",
       "0 & 0 & 1 & \\frac{1}{2} & 0 & 0 \\\\\n",
       "0 & \\frac{1}{2} & 0 & 0 & 0 & 0 \\\\\n",
       "0 & 0 & 0 & \\frac{1}{2} & 0 & 0 \\\\\n",
       "0 & 0 & 0 & 0 & 0 & \\frac{1}{2}\n",
       "\\end{array}\\right)</script></html>"
      ],
      "text/plain": [
       "[  1 1/2   0   0   0   0]\n",
       "[  0   0   0   0   1 1/2]\n",
       "[  0   0   1 1/2   0   0]\n",
       "[  0 1/2   0   0   0   0]\n",
       "[  0   0   0 1/2   0   0]\n",
       "[  0   0   0   0   0 1/2]"
      ]
     },
     "execution_count": 10,
     "metadata": {},
     "output_type": "execute_result"
    }
   ],
   "source": [
    "state.t"
   ]
  },
  {
   "cell_type": "code",
   "execution_count": 13,
   "metadata": {},
   "outputs": [
    {
     "data": {
      "text/html": [
       "<html><script type=\"math/tex; mode=display\">\\newcommand{\\Bold}[1]{\\mathbf{#1}}3^{3} \\cdot 7^{2} \\cdot 13 \\cdot 43 \\cdot 83</script></html>"
      ],
      "text/plain": [
       "3^3 * 7^2 * 13 * 43 * 83"
      ]
     },
     "execution_count": 13,
     "metadata": {},
     "output_type": "execute_result"
    }
   ],
   "source": [
    "(2 * state.m).determinant().factor()"
   ]
  }
 ],
 "metadata": {
  "kernelspec": {
   "display_name": "SageMath 9.0",
   "language": "sage",
   "name": "sagemath"
  },
  "language_info": {
   "codemirror_mode": {
    "name": "ipython",
    "version": 3
   },
   "file_extension": ".py",
   "mimetype": "text/x-python",
   "name": "python",
   "nbconvert_exporter": "python",
   "pygments_lexer": "ipython3",
   "version": "3.8.10"
  }
 },
 "nbformat": 4,
 "nbformat_minor": 4
}
