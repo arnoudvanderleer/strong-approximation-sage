{
 "cells": [
  {
   "cell_type": "code",
   "execution_count": 1,
   "metadata": {},
   "outputs": [],
   "source": [
    "%display latex"
   ]
  },
  {
   "cell_type": "code",
   "execution_count": 2,
   "metadata": {},
   "outputs": [],
   "source": [
    "import algorithm_states, algorithms, common"
   ]
  },
  {
   "cell_type": "markdown",
   "metadata": {},
   "source": [
    "We start with a $ n \\times n $ diagonal matrix $ m $."
   ]
  },
  {
   "cell_type": "code",
   "execution_count": 3,
   "metadata": {
    "scrolled": true
   },
   "outputs": [
    {
     "data": {
      "text/html": [
       "<html><script type=\"math/tex; mode=display\">\\newcommand{\\Bold}[1]{\\mathbf{#1}}\\left(\\left(\\begin{array}{rrrrrr}\n",
       "-5 & 0 & 0 & 0 & 0 & 0 \\\\\n",
       "0 & 5 & 0 & 0 & 0 & 0 \\\\\n",
       "0 & 0 & 5 & 0 & 0 & 0 \\\\\n",
       "0 & 0 & 0 & 5 & 0 & 0 \\\\\n",
       "0 & 0 & 0 & 0 & -10 & 0 \\\\\n",
       "0 & 0 & 0 & 0 & 0 & 15\n",
       "\\end{array}\\right), 4, \\mathrm{True}\\right)</script></html>"
      ],
      "text/plain": [
       "(\n",
       "[ -5   0   0   0   0   0]         \n",
       "[  0   5   0   0   0   0]         \n",
       "[  0   0   5   0   0   0]         \n",
       "[  0   0   0   5   0   0]         \n",
       "[  0   0   0   0 -10   0]         \n",
       "[  0   0   0   0   0  15], 4, True\n",
       ")"
      ]
     },
     "metadata": {},
     "output_type": "display_data"
    }
   ],
   "source": [
    "def get_matrix_element(p):\n",
    "    result = ZZ.random_element()\n",
    "    if result % p == 0:\n",
    "        result = get_matrix_element(p)\n",
    "    return result\n",
    "\n",
    "def get_nonsquare(F):\n",
    "    result = F.random_element()\n",
    "    while result.is_square():\n",
    "        result = F.random_element()\n",
    "    return ZZ(result)\n",
    "\n",
    "p = 5\n",
    "dim = 6\n",
    "k = 6\n",
    "m0 = diagonal_matrix([get_matrix_element(p) * (p if i < k else 1) for i in range(dim)])\n",
    "F = GF(p)\n",
    "if not F((-1)^(k/2) * prod(m0[i, i] / p for i in range(k))).is_square():\n",
    "    m0[k - 1, k - 1] *= get_nonsquare(F)\n",
    "    \n",
    "pretty_print((\n",
    "    m0,\n",
    "    F((-1)^(k/2) * prod(m0[i, i] / p for i in range(k))),\n",
    "    F((-1)^(k/2) * prod(m0[i, i] / p for i in range(k))).is_square(),\n",
    "))"
   ]
  },
  {
   "cell_type": "markdown",
   "metadata": {},
   "source": [
    "Initialization of variables"
   ]
  },
  {
   "cell_type": "code",
   "execution_count": 4,
   "metadata": {},
   "outputs": [],
   "source": [
    "state = algorithm_states.ModelState(m0)\n",
    "k = common.ord(p, m0.determinant())"
   ]
  },
  {
   "cell_type": "markdown",
   "metadata": {},
   "source": [
    "Suppose that $ k \\geq 4 $. By the Chevalley-Warning theorem, we have a solution to the equation $ \\frac{m_{11}}{p} x_1^2 + \\frac{m_{22}}{p} x_2^2 + \\frac{m_{33}}{p} x_3^2 \\equiv 0 \\mod p $. Then, by Lemma 4.6, we have (if we order the diagonal entries of $ m $ in a suitable way) a matrix\n",
    "\n",
    "$ r = \\begin{pmatrix}\n",
    "    1 & 0 & 0 & 0 & \\dots & 0\\\\\n",
    "    \\lambda_2 & 1 & 0 & 0 & \\dots & 0\\\\\n",
    "    \\lambda_3 & 0 & 1 & 0 & \\dots & 0\\\\\n",
    "    0 & 0 & 0 & 1 & \\dots & 0\\\\\n",
    "    \\vdots & \\vdots & \\vdots & \\vdots & \\ddots & \\vdots \\\\\n",
    "    0 & 0 & 0 & 0 & \\dots & 1\\\\\n",
    "\\end{pmatrix} \\quad \\text{and} \\quad s = \\mathrm{diag} \\left(\\frac{1}{p}, 1, \\dots, 1 \\right) $\n",
    "\n",
    "such that $ r s $ is a partial model improvement.\n",
    "\n",
    "Now, take $ m^\\prime = (r s)^T m r s $. If $ p \\mid m^\\prime_{11} $, we have $ p \\nmid m^\\prime_{1j} $ for some $ j \\in \\{ 2, 3 \\} $. We can then add once or twice the $ i $th row and column to the first one of $ m^\\prime $ to make sure that $ p \\nmid m^\\prime_{11} $. The result is the same as when we would have added $ p $ or $ 2 p $ to $ \\lambda_i $ in $ r $. Therefore, we assume that $ p \\nmid m^\\prime_{11} $.\n",
    "\n",
    "Now, since $ p^2 \\nmid m_{11} $, we must have either $ p \\nmid \\lambda_2 $ or $ p \\nmid \\lambda_3 $. By, if necessary, exchanging $ m_{22} $ and $ m_{33} $, we can assume that $ p \\nmid \\lambda_2 $.\n",
    "\n",
    "The following will only change the upper left 3x3 submatrix of our matrix, so we will only show what happens there. We have \n",
    "\n",
    "$ (r s)^T m r s = \\begin{pmatrix}\n",
    "    \\mu_1 & \\lambda_2 \\frac{m_{22}}{p} & \\lambda_3 \\frac{m_{33}}{p} & \\dots\\\\\n",
    "    \\lambda_2 \\frac{m_{22}}{p} & m_{22} & 0 & \\dots\\\\\n",
    "    \\lambda_3 \\frac{m_{33}}{p} & 0 & m_{33} & \\dots\\\\\n",
    "    \\vdots & \\vdots & \\vdots & \\ddots\n",
    "\\end{pmatrix} $\n",
    "\n",
    "with $ \\mu_1 = \\frac{m_{11} + \\lambda_2^2 m_{22} + \\lambda_3^2 m_{33}}{p^2} $. If we then diagonalize with Lemma 4.3, we obtain\n",
    "\n",
    "$ m^\\prime := \\begin{pmatrix}\n",
    "    \\mu_1 & 0 & 0 & \\dots\\\\\n",
    "    0 & \\mu_2 & 0 & \\dots\\\\\n",
    "    0 & 0 & \\mu_3 & \\dots\\\\\n",
    "    \\vdots & \\vdots & \\vdots & \\ddots\n",
    "\\end{pmatrix} $\n",
    "\n",
    "for $ \\mu_2 = m_{22} - \\frac{\\lambda_2^2 m_{22}^2}{\\mu_1 p^2} $, which is not divisible by $ p $, and for some value of $ \\mu_3 $. Note that the determinant of the submatrix has only changed by a factor of $ \\frac{1}{p^2} $, so\n",
    "\n",
    "$ \\frac{m_{11} m_{22} m_{33}}{p^2} = \\mu_1 \\mu_2 \\mu_3 = \\mu_1 \\left( m_{22} - \\frac{\\lambda_2^2 m_{22}^2}{\\mu_1 p^2} \\right) \\mu_3, $\n",
    "\n",
    "and $ \\mu_3 $ is divisible by $ p $. Therefore,\n",
    "\n",
    "$ \\frac{\\mu_3}p = \\frac{\\frac{m_{11}}{p} \\frac{m_{22}}p \\frac{m_{33}}p}{\\mu_1 \\frac{m_{22}}p p - \\lambda_2^2 \\left(\\frac{m_{22}}p\\right)^2} \\equiv \\frac{- \\frac{m_{11}}{p} \\frac{m_{22}}p \\frac{m_{33}}p}{\\lambda_2^2 \\left(\\frac{m_{22}}p\\right)^2} \\mod p. $\n",
    "\n",
    "Therefore,\n",
    "\n",
    "$ (-1)^{\\frac{k}{2} - 1} \\prod_{i, p \\mid m^\\prime_{ii}} \\frac{m^\\prime_{ii}}{p} \\equiv \\frac{(-1)^{\\frac{k}{2}}}{\\lambda_2^2 \\left(\\frac{m_{22}}p\\right)^2} \\prod_{i, p \\mid m_{ii}} \\frac{m_{ii}}{p} \\mod p $\n",
    "\n",
    "Since the right hand side is a square modulo $ p $, the left hand side is a square modulo $ p $ as well. "
   ]
  },
  {
   "cell_type": "code",
   "execution_count": 5,
   "metadata": {},
   "outputs": [
    {
     "name": "stdout",
     "output_type": "stream",
     "text": [
      "Make the first coefficient of the solution nonzero\n"
     ]
    },
    {
     "data": {
      "text/html": [
       "<html><script type=\"math/tex; mode=display\">\\newcommand{\\Bold}[1]{\\mathbf{#1}}\\left(\\begin{array}{rrrrrr}\n",
       "5 & 0 & 0 & 0 & 0 & 0 \\\\\n",
       "0 & -5 & 0 & 0 & 0 & 0 \\\\\n",
       "0 & 0 & 5 & 0 & 0 & 0 \\\\\n",
       "0 & 0 & 0 & 5 & 0 & 0 \\\\\n",
       "0 & 0 & 0 & 0 & -10 & 0 \\\\\n",
       "0 & 0 & 0 & 0 & 0 & 15\n",
       "\\end{array}\\right)</script></html>"
      ],
      "text/plain": [
       "[  5   0   0   0   0   0]\n",
       "[  0  -5   0   0   0   0]\n",
       "[  0   0   5   0   0   0]\n",
       "[  0   0   0   5   0   0]\n",
       "[  0   0   0   0 -10   0]\n",
       "[  0   0   0   0   0  15]"
      ]
     },
     "metadata": {},
     "output_type": "display_data"
    },
    {
     "name": "stdout",
     "output_type": "stream",
     "text": [
      "Apply partial improvement\n"
     ]
    },
    {
     "data": {
      "text/html": [
       "<html><script type=\"math/tex; mode=display\">\\newcommand{\\Bold}[1]{\\mathbf{#1}}\\left(\\begin{array}{rrrrrr}\n",
       "25 & 0 & 10 & 0 & 0 & 0 \\\\\n",
       "0 & -5 & 0 & 0 & 0 & 0 \\\\\n",
       "10 & 0 & 5 & 0 & 0 & 0 \\\\\n",
       "0 & 0 & 0 & 5 & 0 & 0 \\\\\n",
       "0 & 0 & 0 & 0 & -10 & 0 \\\\\n",
       "0 & 0 & 0 & 0 & 0 & 15\n",
       "\\end{array}\\right)</script></html>"
      ],
      "text/plain": [
       "[ 25   0  10   0   0   0]\n",
       "[  0  -5   0   0   0   0]\n",
       "[ 10   0   5   0   0   0]\n",
       "[  0   0   0   5   0   0]\n",
       "[  0   0   0   0 -10   0]\n",
       "[  0   0   0   0   0  15]"
      ]
     },
     "metadata": {},
     "output_type": "display_data"
    },
    {
     "data": {
      "text/html": [
       "<html><script type=\"math/tex; mode=display\">\\newcommand{\\Bold}[1]{\\mathbf{#1}}\\left(\\begin{array}{rrrrrr}\n",
       "1 & 0 & 2 & 0 & 0 & 0 \\\\\n",
       "0 & -5 & 0 & 0 & 0 & 0 \\\\\n",
       "2 & 0 & 5 & 0 & 0 & 0 \\\\\n",
       "0 & 0 & 0 & 5 & 0 & 0 \\\\\n",
       "0 & 0 & 0 & 0 & -10 & 0 \\\\\n",
       "0 & 0 & 0 & 0 & 0 & 15\n",
       "\\end{array}\\right)</script></html>"
      ],
      "text/plain": [
       "[  1   0   2   0   0   0]\n",
       "[  0  -5   0   0   0   0]\n",
       "[  2   0   5   0   0   0]\n",
       "[  0   0   0   5   0   0]\n",
       "[  0   0   0   0 -10   0]\n",
       "[  0   0   0   0   0  15]"
      ]
     },
     "metadata": {},
     "output_type": "display_data"
    },
    {
     "name": "stdout",
     "output_type": "stream",
     "text": [
      "Rediagonalize\n"
     ]
    },
    {
     "data": {
      "text/html": [
       "<html><script type=\"math/tex; mode=display\">\\newcommand{\\Bold}[1]{\\mathbf{#1}}\\left(\\begin{array}{rrrrrr}\n",
       "1 & 0 & 0 & 0 & 0 & 0 \\\\\n",
       "0 & 1 & 0 & 0 & 0 & 0 \\\\\n",
       "0 & 0 & -5 & 0 & 0 & 0 \\\\\n",
       "0 & 0 & 0 & 5 & 0 & 0 \\\\\n",
       "0 & 0 & 0 & 0 & -10 & 0 \\\\\n",
       "0 & 0 & 0 & 0 & 0 & 15\n",
       "\\end{array}\\right)</script></html>"
      ],
      "text/plain": [
       "[  1   0   0   0   0   0]\n",
       "[  0   1   0   0   0   0]\n",
       "[  0   0  -5   0   0   0]\n",
       "[  0   0   0   5   0   0]\n",
       "[  0   0   0   0 -10   0]\n",
       "[  0   0   0   0   0  15]"
      ]
     },
     "metadata": {},
     "output_type": "display_data"
    },
    {
     "data": {
      "text/html": [
       "<html><script type=\"math/tex; mode=display\">\\newcommand{\\Bold}[1]{\\mathbf{#1}}\\verb|Move|\\phantom{\\verb!x!}\\verb|entries|\\phantom{\\verb!x!}\\verb|divisible|\\phantom{\\verb!x!}\\verb|by|\\phantom{\\verb!x!}\\verb|p|\\phantom{\\verb!x!}\\verb|to|\\phantom{\\verb!x!}\\verb|the|\\phantom{\\verb!x!}\\verb|front|</script></html>"
      ],
      "text/plain": [
       "'Move entries divisible by p to the front'"
      ]
     },
     "metadata": {},
     "output_type": "display_data"
    },
    {
     "data": {
      "text/html": [
       "<html><script type=\"math/tex; mode=display\">\\newcommand{\\Bold}[1]{\\mathbf{#1}}\\left(\\begin{array}{rrrrrr}\n",
       "15 & 0 & 0 & 0 & 0 & 0 \\\\\n",
       "0 & 1 & 0 & 0 & 0 & 0 \\\\\n",
       "0 & 0 & -5 & 0 & 0 & 0 \\\\\n",
       "0 & 0 & 0 & 5 & 0 & 0 \\\\\n",
       "0 & 0 & 0 & 0 & -10 & 0 \\\\\n",
       "0 & 0 & 0 & 0 & 0 & 1\n",
       "\\end{array}\\right)</script></html>"
      ],
      "text/plain": [
       "[ 15   0   0   0   0   0]\n",
       "[  0   1   0   0   0   0]\n",
       "[  0   0  -5   0   0   0]\n",
       "[  0   0   0   5   0   0]\n",
       "[  0   0   0   0 -10   0]\n",
       "[  0   0   0   0   0   1]"
      ]
     },
     "metadata": {},
     "output_type": "display_data"
    },
    {
     "data": {
      "text/html": [
       "<html><script type=\"math/tex; mode=display\">\\newcommand{\\Bold}[1]{\\mathbf{#1}}\\left(\\begin{array}{rrrrrr}\n",
       "15 & 0 & 0 & 0 & 0 & 0 \\\\\n",
       "0 & -10 & 0 & 0 & 0 & 0 \\\\\n",
       "0 & 0 & -5 & 0 & 0 & 0 \\\\\n",
       "0 & 0 & 0 & 5 & 0 & 0 \\\\\n",
       "0 & 0 & 0 & 0 & 1 & 0 \\\\\n",
       "0 & 0 & 0 & 0 & 0 & 1\n",
       "\\end{array}\\right)</script></html>"
      ],
      "text/plain": [
       "[ 15   0   0   0   0   0]\n",
       "[  0 -10   0   0   0   0]\n",
       "[  0   0  -5   0   0   0]\n",
       "[  0   0   0   5   0   0]\n",
       "[  0   0   0   0   1   0]\n",
       "[  0   0   0   0   0   1]"
      ]
     },
     "metadata": {},
     "output_type": "display_data"
    },
    {
     "name": "stdout",
     "output_type": "stream",
     "text": [
      "Apply partial improvement\n"
     ]
    },
    {
     "data": {
      "text/html": [
       "<html><script type=\"math/tex; mode=display\">\\newcommand{\\Bold}[1]{\\mathbf{#1}}\\left(\\begin{array}{rrrrrr}\n",
       "5 & -10 & 0 & 0 & 0 & 0 \\\\\n",
       "-10 & -10 & 0 & 0 & 0 & 0 \\\\\n",
       "0 & 0 & -5 & 0 & 0 & 0 \\\\\n",
       "0 & 0 & 0 & 5 & 0 & 0 \\\\\n",
       "0 & 0 & 0 & 0 & 1 & 0 \\\\\n",
       "0 & 0 & 0 & 0 & 0 & 1\n",
       "\\end{array}\\right)</script></html>"
      ],
      "text/plain": [
       "[  5 -10   0   0   0   0]\n",
       "[-10 -10   0   0   0   0]\n",
       "[  0   0  -5   0   0   0]\n",
       "[  0   0   0   5   0   0]\n",
       "[  0   0   0   0   1   0]\n",
       "[  0   0   0   0   0   1]"
      ]
     },
     "metadata": {},
     "output_type": "display_data"
    },
    {
     "name": "stdout",
     "output_type": "stream",
     "text": [
      "Apply partial improvement\n"
     ]
    },
    {
     "data": {
      "text/html": [
       "<html><script type=\"math/tex; mode=display\">\\newcommand{\\Bold}[1]{\\mathbf{#1}}\\left(\\begin{array}{rrrrrr}\n",
       "0 & -10 & -5 & 0 & 0 & 0 \\\\\n",
       "-10 & -10 & 0 & 0 & 0 & 0 \\\\\n",
       "-5 & 0 & -5 & 0 & 0 & 0 \\\\\n",
       "0 & 0 & 0 & 5 & 0 & 0 \\\\\n",
       "0 & 0 & 0 & 0 & 1 & 0 \\\\\n",
       "0 & 0 & 0 & 0 & 0 & 1\n",
       "\\end{array}\\right)</script></html>"
      ],
      "text/plain": [
       "[  0 -10  -5   0   0   0]\n",
       "[-10 -10   0   0   0   0]\n",
       "[ -5   0  -5   0   0   0]\n",
       "[  0   0   0   5   0   0]\n",
       "[  0   0   0   0   1   0]\n",
       "[  0   0   0   0   0   1]"
      ]
     },
     "metadata": {},
     "output_type": "display_data"
    },
    {
     "data": {
      "text/html": [
       "<html><script type=\"math/tex; mode=display\">\\newcommand{\\Bold}[1]{\\mathbf{#1}}\\left(\\begin{array}{rrrrrr}\n",
       "0 & -2 & -1 & 0 & 0 & 0 \\\\\n",
       "-2 & -10 & 0 & 0 & 0 & 0 \\\\\n",
       "-1 & 0 & -5 & 0 & 0 & 0 \\\\\n",
       "0 & 0 & 0 & 5 & 0 & 0 \\\\\n",
       "0 & 0 & 0 & 0 & 1 & 0 \\\\\n",
       "0 & 0 & 0 & 0 & 0 & 1\n",
       "\\end{array}\\right)</script></html>"
      ],
      "text/plain": [
       "[  0  -2  -1   0   0   0]\n",
       "[ -2 -10   0   0   0   0]\n",
       "[ -1   0  -5   0   0   0]\n",
       "[  0   0   0   5   0   0]\n",
       "[  0   0   0   0   1   0]\n",
       "[  0   0   0   0   0   1]"
      ]
     },
     "metadata": {},
     "output_type": "display_data"
    },
    {
     "name": "stdout",
     "output_type": "stream",
     "text": [
      "Rediagonalize\n"
     ]
    },
    {
     "data": {
      "text/html": [
       "<html><script type=\"math/tex; mode=display\">\\newcommand{\\Bold}[1]{\\mathbf{#1}}\\left(\\begin{array}{rrrrrr}\n",
       "-14 & 0 & 0 & 0 & 0 & 0 \\\\\n",
       "0 & \\frac{2}{7} & 0 & 0 & 0 & 0 \\\\\n",
       "0 & 0 & 1 & 0 & 0 & 0 \\\\\n",
       "0 & 0 & 0 & 1 & 0 & 0 \\\\\n",
       "0 & 0 & 0 & 0 & -\\frac{15}{2} & 0 \\\\\n",
       "0 & 0 & 0 & 0 & 0 & 5\n",
       "\\end{array}\\right)</script></html>"
      ],
      "text/plain": [
       "[  -14     0     0     0     0     0]\n",
       "[    0   2/7     0     0     0     0]\n",
       "[    0     0     1     0     0     0]\n",
       "[    0     0     0     1     0     0]\n",
       "[    0     0     0     0 -15/2     0]\n",
       "[    0     0     0     0     0     5]"
      ]
     },
     "metadata": {},
     "output_type": "display_data"
    },
    {
     "data": {
      "text/html": [
       "<html><script type=\"math/tex; mode=display\">\\newcommand{\\Bold}[1]{\\mathbf{#1}}\\verb|Move|\\phantom{\\verb!x!}\\verb|entries|\\phantom{\\verb!x!}\\verb|divisible|\\phantom{\\verb!x!}\\verb|by|\\phantom{\\verb!x!}\\verb|p|\\phantom{\\verb!x!}\\verb|to|\\phantom{\\verb!x!}\\verb|the|\\phantom{\\verb!x!}\\verb|front|</script></html>"
      ],
      "text/plain": [
       "'Move entries divisible by p to the front'"
      ]
     },
     "metadata": {},
     "output_type": "display_data"
    },
    {
     "data": {
      "text/html": [
       "<html><script type=\"math/tex; mode=display\">\\newcommand{\\Bold}[1]{\\mathbf{#1}}\\left(\\begin{array}{rrrrrr}\n",
       "5 & 0 & 0 & 0 & 0 & 0 \\\\\n",
       "0 & \\frac{2}{7} & 0 & 0 & 0 & 0 \\\\\n",
       "0 & 0 & 1 & 0 & 0 & 0 \\\\\n",
       "0 & 0 & 0 & 1 & 0 & 0 \\\\\n",
       "0 & 0 & 0 & 0 & -\\frac{15}{2} & 0 \\\\\n",
       "0 & 0 & 0 & 0 & 0 & -14\n",
       "\\end{array}\\right)</script></html>"
      ],
      "text/plain": [
       "[    5     0     0     0     0     0]\n",
       "[    0   2/7     0     0     0     0]\n",
       "[    0     0     1     0     0     0]\n",
       "[    0     0     0     1     0     0]\n",
       "[    0     0     0     0 -15/2     0]\n",
       "[    0     0     0     0     0   -14]"
      ]
     },
     "metadata": {},
     "output_type": "display_data"
    },
    {
     "data": {
      "text/html": [
       "<html><script type=\"math/tex; mode=display\">\\newcommand{\\Bold}[1]{\\mathbf{#1}}\\left(\\begin{array}{rrrrrr}\n",
       "5 & 0 & 0 & 0 & 0 & 0 \\\\\n",
       "0 & -\\frac{15}{2} & 0 & 0 & 0 & 0 \\\\\n",
       "0 & 0 & 1 & 0 & 0 & 0 \\\\\n",
       "0 & 0 & 0 & 1 & 0 & 0 \\\\\n",
       "0 & 0 & 0 & 0 & \\frac{2}{7} & 0 \\\\\n",
       "0 & 0 & 0 & 0 & 0 & -14\n",
       "\\end{array}\\right)</script></html>"
      ],
      "text/plain": [
       "[    5     0     0     0     0     0]\n",
       "[    0 -15/2     0     0     0     0]\n",
       "[    0     0     1     0     0     0]\n",
       "[    0     0     0     1     0     0]\n",
       "[    0     0     0     0   2/7     0]\n",
       "[    0     0     0     0     0   -14]"
      ]
     },
     "metadata": {},
     "output_type": "display_data"
    }
   ],
   "source": [
    "while k >= 4:\n",
    "    # Find a solution\n",
    "    solution = None\n",
    "    if F(-state.m[2, 2] / state.m[1, 1]).is_square():\n",
    "        solution = (0, 1, ZZ(F(-state.m[2, 2] / state.m[1, 1]).sqrt()))\n",
    "    else:\n",
    "        for x2 in range((p + 1) / 2):\n",
    "            if F(-(state.m[0, 0] + x2^2 * state.m[1, 1]) / state.m[2, 2]).is_square():\n",
    "                solution = (1, x2, ZZ(F(-(state.m[0, 0] + x2^2 * state.m[1, 1]) / state.m[2, 2]).sqrt()))\n",
    "                break\n",
    "                \n",
    "    if solution[0] == 0:\n",
    "        state.switch_rows(1, 0, description = \"Make the first coefficient of the solution nonzero\")\n",
    "        solution = (solution[1], solution[0], solution[2])\n",
    "        \n",
    "    state.add_row(1, 0, ZZ(solution[1]), \"Apply partial improvement\")\n",
    "    state.add_row(2, 0, ZZ(solution[2]), \"Apply partial improvement\")\n",
    "    state.step(elementary_matrix(QQ, dim, row1 = 0, scale= 1 / p))\n",
    "    \n",
    "    (_, diagonal_transform, _) = algorithms.lemma_4_3(state.m, p)\n",
    "    state.step(diagonal_transform, \"Rediagonalize\")\n",
    "    \n",
    "    state.step(diagonal_matrix(1 / p^((common.ord(p, state.m[i, i]) // 2)) for i in range(dim)), \"Remove excess square powers of p\")\n",
    "    \n",
    "    pretty_print(\"Move entries divisible by p to the front\")\n",
    "    while min(i for i in range(dim) if state.m[i, i] % p != 0) < max(i for i in range(dim) if state.m[i, i] % p == 0):\n",
    "        i = min(i for i in range(dim) if state.m[i, i] % p != 0)\n",
    "        j = max(i for i in range(dim) if state.m[i, i] % p == 0)\n",
    "        state.switch_rows(j, i)\n",
    "                        \n",
    "    k = common.ord(p, state.m.determinant())"
   ]
  },
  {
   "cell_type": "markdown",
   "metadata": {},
   "source": [
    "On the other hand, suppose that $ k = 2 $. Then the equation tells us that $ -\\frac{m_{11} m_{22}}{p^2} $ is a square modulo $ p $. Therefore, $ -\\frac{m_{11}}{m_{22}} $ is also a square modulo $ p $. If we call the root $ \\lambda $, we have a solution to the equation $ m_{11} 1^2 + m_{22} \\lambda^2 \\equiv 0 \\mod p. $\n",
    "\n",
    "Then, by Lemma 4.6 we get a partial model improvement $ t $ is, so $ \\mathop{ord}_p(t^T m t) = \\mathop{ord}_p(m) - 2 = 0 $, which means that $ t $ is actually a model improvement and we are done."
   ]
  },
  {
   "cell_type": "code",
   "execution_count": 6,
   "metadata": {},
   "outputs": [
    {
     "data": {
      "text/html": [
       "<html><script type=\"math/tex; mode=display\">\\newcommand{\\Bold}[1]{\\mathbf{#1}}\\left(\\begin{array}{rrrrrr}\n",
       "-25 & -15 & 0 & 0 & 0 & 0 \\\\\n",
       "-15 & -\\frac{15}{2} & 0 & 0 & 0 & 0 \\\\\n",
       "0 & 0 & 1 & 0 & 0 & 0 \\\\\n",
       "0 & 0 & 0 & 1 & 0 & 0 \\\\\n",
       "0 & 0 & 0 & 0 & \\frac{2}{7} & 0 \\\\\n",
       "0 & 0 & 0 & 0 & 0 & -14\n",
       "\\end{array}\\right)</script></html>"
      ],
      "text/plain": [
       "[  -25   -15     0     0     0     0]\n",
       "[  -15 -15/2     0     0     0     0]\n",
       "[    0     0     1     0     0     0]\n",
       "[    0     0     0     1     0     0]\n",
       "[    0     0     0     0   2/7     0]\n",
       "[    0     0     0     0     0   -14]"
      ]
     },
     "metadata": {},
     "output_type": "display_data"
    },
    {
     "data": {
      "text/html": [
       "<html><script type=\"math/tex; mode=display\">\\newcommand{\\Bold}[1]{\\mathbf{#1}}\\left(\\begin{array}{rrrrrr}\n",
       "-1 & -3 & 0 & 0 & 0 & 0 \\\\\n",
       "-3 & -\\frac{15}{2} & 0 & 0 & 0 & 0 \\\\\n",
       "0 & 0 & 1 & 0 & 0 & 0 \\\\\n",
       "0 & 0 & 0 & 1 & 0 & 0 \\\\\n",
       "0 & 0 & 0 & 0 & \\frac{2}{7} & 0 \\\\\n",
       "0 & 0 & 0 & 0 & 0 & -14\n",
       "\\end{array}\\right)</script></html>"
      ],
      "text/plain": [
       "[   -1    -3     0     0     0     0]\n",
       "[   -3 -15/2     0     0     0     0]\n",
       "[    0     0     1     0     0     0]\n",
       "[    0     0     0     1     0     0]\n",
       "[    0     0     0     0   2/7     0]\n",
       "[    0     0     0     0     0   -14]"
      ]
     },
     "metadata": {},
     "output_type": "display_data"
    },
    {
     "name": "stdout",
     "output_type": "stream",
     "text": [
      "Rediagonalize\n"
     ]
    },
    {
     "data": {
      "text/html": [
       "<html><script type=\"math/tex; mode=display\">\\newcommand{\\Bold}[1]{\\mathbf{#1}}\\left(\\begin{array}{rrrrrr}\n",
       "-1 & 0 & 0 & 0 & 0 & 0 \\\\\n",
       "0 & \\frac{3}{2} & 0 & 0 & 0 & 0 \\\\\n",
       "0 & 0 & 1 & 0 & 0 & 0 \\\\\n",
       "0 & 0 & 0 & 1 & 0 & 0 \\\\\n",
       "0 & 0 & 0 & 0 & \\frac{2}{7} & 0 \\\\\n",
       "0 & 0 & 0 & 0 & 0 & -14\n",
       "\\end{array}\\right)</script></html>"
      ],
      "text/plain": [
       "[ -1   0   0   0   0   0]\n",
       "[  0 3/2   0   0   0   0]\n",
       "[  0   0   1   0   0   0]\n",
       "[  0   0   0   1   0   0]\n",
       "[  0   0   0   0 2/7   0]\n",
       "[  0   0   0   0   0 -14]"
      ]
     },
     "metadata": {},
     "output_type": "display_data"
    }
   ],
   "source": [
    "if k == 2:\n",
    "    l = ZZ(F(-state.m[0, 0] / state.m[1, 1]).sqrt())\n",
    "    state.add_row(1, 0, l)\n",
    "    state.step(elementary_matrix(QQ, dim, row1 = 0, scale = 1 / p))\n",
    "     \n",
    "    (_, diagonal_transform, _) = algorithms.lemma_4_3(state.m, p)\n",
    "    state.step(diagonal_transform, \"Rediagonalize\")\n",
    "    k = common.ord(p, state.m.determinant())"
   ]
  },
  {
   "cell_type": "markdown",
   "metadata": {},
   "source": [
    "By induction, we obtain a model improvement with respect to $ p $, which completes the proof."
   ]
  },
  {
   "cell_type": "code",
   "execution_count": 7,
   "metadata": {},
   "outputs": [
    {
     "data": {
      "text/html": [
       "<html><script type=\"math/tex; mode=display\">\\newcommand{\\Bold}[1]{\\mathbf{#1}}\\left(\\begin{array}{rrrrrr}\n",
       "-\\frac{3}{5} & \\frac{3}{10} & 0 & 0 & \\frac{6}{35} & -\\frac{1}{5} \\\\\n",
       "0 & 0 & \\frac{2}{5} & -\\frac{1}{5} & 0 & 0 \\\\\n",
       "0 & 0 & -\\frac{1}{5} & -\\frac{2}{5} & 0 & 0 \\\\\n",
       "-\\frac{1}{5} & \\frac{3}{5} & 0 & 0 & 0 & 0 \\\\\n",
       "0 & 0 & 0 & 0 & \\frac{1}{35} & -\\frac{6}{5} \\\\\n",
       "-\\frac{1}{5} & \\frac{1}{10} & 0 & 0 & \\frac{6}{35} & -\\frac{1}{5}\n",
       "\\end{array}\\right)</script></html>"
      ],
      "text/plain": [
       "[-3/5 3/10    0    0 6/35 -1/5]\n",
       "[   0    0  2/5 -1/5    0    0]\n",
       "[   0    0 -1/5 -2/5    0    0]\n",
       "[-1/5  3/5    0    0    0    0]\n",
       "[   0    0    0    0 1/35 -6/5]\n",
       "[-1/5 1/10    0    0 6/35 -1/5]"
      ]
     },
     "execution_count": 7,
     "metadata": {},
     "output_type": "execute_result"
    }
   ],
   "source": [
    "state.t"
   ]
  },
  {
   "cell_type": "code",
   "execution_count": 8,
   "metadata": {},
   "outputs": [
    {
     "data": {
      "text/html": [
       "<html><script type=\"math/tex; mode=display\">\\newcommand{\\Bold}[1]{\\mathbf{#1}}5^{-3}</script></html>"
      ],
      "text/plain": [
       "5^-3"
      ]
     },
     "execution_count": 8,
     "metadata": {},
     "output_type": "execute_result"
    }
   ],
   "source": [
    "state.t.determinant().factor()"
   ]
  },
  {
   "cell_type": "code",
   "execution_count": 9,
   "metadata": {},
   "outputs": [
    {
     "data": {
      "text/html": [
       "<html><script type=\"math/tex; mode=display\">\\newcommand{\\Bold}[1]{\\mathbf{#1}}\\left(\\begin{array}{rrrrrr}\n",
       "-1 & 0 & 0 & 0 & 0 & 0 \\\\\n",
       "0 & \\frac{3}{2} & 0 & 0 & 0 & 0 \\\\\n",
       "0 & 0 & 1 & 0 & 0 & 0 \\\\\n",
       "0 & 0 & 0 & 1 & 0 & 0 \\\\\n",
       "0 & 0 & 0 & 0 & \\frac{2}{7} & 0 \\\\\n",
       "0 & 0 & 0 & 0 & 0 & -14\n",
       "\\end{array}\\right)</script></html>"
      ],
      "text/plain": [
       "[ -1   0   0   0   0   0]\n",
       "[  0 3/2   0   0   0   0]\n",
       "[  0   0   1   0   0   0]\n",
       "[  0   0   0   1   0   0]\n",
       "[  0   0   0   0 2/7   0]\n",
       "[  0   0   0   0   0 -14]"
      ]
     },
     "execution_count": 9,
     "metadata": {},
     "output_type": "execute_result"
    }
   ],
   "source": [
    "state.t.transpose() * m0 * state.t"
   ]
  }
 ],
 "metadata": {
  "kernelspec": {
   "display_name": "SageMath 9.0",
   "language": "sage",
   "name": "sagemath"
  },
  "language_info": {
   "codemirror_mode": {
    "name": "ipython",
    "version": 3
   },
   "file_extension": ".py",
   "mimetype": "text/x-python",
   "name": "python",
   "nbconvert_exporter": "python",
   "pygments_lexer": "ipython3",
   "version": "3.8.10"
  }
 },
 "nbformat": 4,
 "nbformat_minor": 4
}
