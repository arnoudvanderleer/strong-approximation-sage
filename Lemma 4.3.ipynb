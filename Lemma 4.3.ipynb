{
 "cells": [
  {
   "cell_type": "code",
   "execution_count": 16,
   "metadata": {},
   "outputs": [],
   "source": [
    "%display latex"
   ]
  },
  {
   "cell_type": "code",
   "execution_count": 17,
   "metadata": {},
   "outputs": [],
   "source": [
    "import algorithm_states, common"
   ]
  },
  {
   "cell_type": "markdown",
   "metadata": {},
   "source": [
    "We start with $ m $ given, and $ a = 1 $."
   ]
  },
  {
   "cell_type": "code",
   "execution_count": 18,
   "metadata": {},
   "outputs": [
    {
     "data": {
      "text/html": [
       "<html><script type=\"math/tex; mode=display\">\\newcommand{\\Bold}[1]{\\mathbf{#1}}\\left(\\left(\\begin{array}{rrrrrr}\n",
       "2 & -1 & -1 & -5 & -\\frac{3}{2} & -\\frac{3}{2} \\\\\n",
       "-1 & 0 & 2 & 0 & -\\frac{3}{2} & -1 \\\\\n",
       "-1 & 2 & 0 & \\frac{3}{2} & 1 & -\\frac{3}{2} \\\\\n",
       "-5 & 0 & \\frac{3}{2} & 7 & -\\frac{11}{2} & 1 \\\\\n",
       "-\\frac{3}{2} & -\\frac{3}{2} & 1 & -\\frac{11}{2} & 1 & -\\frac{3}{2} \\\\\n",
       "-\\frac{3}{2} & -1 & -\\frac{3}{2} & 1 & -\\frac{3}{2} & -13\n",
       "\\end{array}\\right), -\\frac{486513}{64}\\right)</script></html>"
      ],
      "text/plain": [
       "(\n",
       "[    2    -1    -1    -5  -3/2  -3/2]            \n",
       "[   -1     0     2     0  -3/2    -1]            \n",
       "[   -1     2     0   3/2     1  -3/2]            \n",
       "[   -5     0   3/2     7 -11/2     1]            \n",
       "[ -3/2  -3/2     1 -11/2     1  -3/2]            \n",
       "[ -3/2    -1  -3/2     1  -3/2   -13], -486513/64\n",
       ")"
      ]
     },
     "execution_count": 18,
     "metadata": {},
     "output_type": "execute_result"
    }
   ],
   "source": [
    "dim = 6\n",
    "m0 = random_matrix(ZZ, dim)\n",
    "m0 = (m0 + m0.transpose()) / 2\n",
    "(m0, m0.determinant())"
   ]
  },
  {
   "cell_type": "markdown",
   "metadata": {},
   "source": [
    "Initialization of variables"
   ]
  },
  {
   "cell_type": "code",
   "execution_count": 19,
   "metadata": {},
   "outputs": [],
   "source": [
    "p = 5\n",
    "a = 1\n",
    "state = algorithm_states.ModelState(m0)"
   ]
  },
  {
   "cell_type": "markdown",
   "metadata": {},
   "source": [
    "If $ \\mathop{ord}_p(m_{*1}) > \\min_j\\{ \\mathop{ord}_p(m_{*j}) \\} $, there exists $ i $ such that $ \\mathop{ord}_p(m_{*i}) = \\min_j\\{ \\mathop{ord}_p(m_{*j}) \\} $. We switch the first and $ i $th column (and row), such that the order of the first column is minimal."
   ]
  },
  {
   "cell_type": "code",
   "execution_count": 20,
   "metadata": {},
   "outputs": [],
   "source": [
    "(o, i) = min((common.ord_vector(p, state.m, i), i) for i in range(dim))\n",
    "if o < common.ord_vector(p, state.m, 0):\n",
    "    state.switch_columns(i, 0)"
   ]
  },
  {
   "cell_type": "markdown",
   "metadata": {},
   "source": [
    "If $ \\mathop{ord}_p(m_{11}) > \\mathop{ord}_p(m_{*1}) $ (so $ p \\mid p^{-\\mathop{ord}_p(m_{*1})} m_{11} $), there exists $ i $ such that $ \\mathop{ord}_p(m_{i1}) = \\mathop{ord}_p(m_{*1}) $. Then we can add $ 1 $ or $ 2 $ times the $ i $th column and row to the first one, to make sure that $ \\mathop{ord}_p(m_{11}) = \\mathop{ord}_p(m_{*1}) $."
   ]
  },
  {
   "cell_type": "code",
   "execution_count": 21,
   "metadata": {},
   "outputs": [],
   "source": [
    "(o, i) = min((common.ord(p, state.m[i, 0]), i) for i in range(dim))\n",
    "for j in range(2):\n",
    "    if o < common.ord(p, state.m[0, 0]):\n",
    "        state.add_row(i, 0)"
   ]
  },
  {
   "cell_type": "markdown",
   "metadata": {},
   "source": [
    "If we take $ a $ to be the least common multiple of $ a $ and the numerator of $ m_{11} p^{-\\mathop{ord}_p(m_{11})} $, we have for all $ i > 1 $ that $ \\frac{m_{1i}}{m_{11}} \\in \\mathbb Z \\left[ \\frac 1 a \\right] $, so we can add $ -\\frac{m_{1i}}{m_{11}} $ the first row and column to the $ i $th one to make sure that in the first row and column, $ m_{11} $ is the only nonzero value."
   ]
  },
  {
   "cell_type": "code",
   "execution_count": 22,
   "metadata": {},
   "outputs": [
    {
     "data": {
      "text/html": [
       "<html><script type=\"math/tex; mode=display\">\\newcommand{\\Bold}[1]{\\mathbf{#1}}2</script></html>"
      ],
      "text/plain": [
       "2"
      ]
     },
     "execution_count": 22,
     "metadata": {},
     "output_type": "execute_result"
    }
   ],
   "source": [
    "a = lcm(a, (state.m[0, 0] * p^(-common.ord(p, state.m[0, 0]))).numerator()); a"
   ]
  },
  {
   "cell_type": "code",
   "execution_count": 23,
   "metadata": {},
   "outputs": [
    {
     "name": "stdout",
     "output_type": "stream",
     "text": [
      "Make entry (0, 1) equal to 0\n"
     ]
    },
    {
     "data": {
      "text/html": [
       "<html><script type=\"math/tex; mode=display\">\\newcommand{\\Bold}[1]{\\mathbf{#1}}\\left(\\begin{array}{rrrrrr}\n",
       "2 & 0 & -1 & -5 & -\\frac{3}{2} & -\\frac{3}{2} \\\\\n",
       "0 & -\\frac{1}{2} & \\frac{3}{2} & -\\frac{5}{2} & -\\frac{9}{4} & -\\frac{7}{4} \\\\\n",
       "-1 & \\frac{3}{2} & 0 & \\frac{3}{2} & 1 & -\\frac{3}{2} \\\\\n",
       "-5 & -\\frac{5}{2} & \\frac{3}{2} & 7 & -\\frac{11}{2} & 1 \\\\\n",
       "-\\frac{3}{2} & -\\frac{9}{4} & 1 & -\\frac{11}{2} & 1 & -\\frac{3}{2} \\\\\n",
       "-\\frac{3}{2} & -\\frac{7}{4} & -\\frac{3}{2} & 1 & -\\frac{3}{2} & -13\n",
       "\\end{array}\\right)</script></html>"
      ],
      "text/plain": [
       "[    2     0    -1    -5  -3/2  -3/2]\n",
       "[    0  -1/2   3/2  -5/2  -9/4  -7/4]\n",
       "[   -1   3/2     0   3/2     1  -3/2]\n",
       "[   -5  -5/2   3/2     7 -11/2     1]\n",
       "[ -3/2  -9/4     1 -11/2     1  -3/2]\n",
       "[ -3/2  -7/4  -3/2     1  -3/2   -13]"
      ]
     },
     "metadata": {},
     "output_type": "display_data"
    },
    {
     "name": "stdout",
     "output_type": "stream",
     "text": [
      "Make entry (0, 2) equal to 0\n"
     ]
    },
    {
     "data": {
      "text/html": [
       "<html><script type=\"math/tex; mode=display\">\\newcommand{\\Bold}[1]{\\mathbf{#1}}\\left(\\begin{array}{rrrrrr}\n",
       "2 & 0 & 0 & -5 & -\\frac{3}{2} & -\\frac{3}{2} \\\\\n",
       "0 & -\\frac{1}{2} & \\frac{3}{2} & -\\frac{5}{2} & -\\frac{9}{4} & -\\frac{7}{4} \\\\\n",
       "0 & \\frac{3}{2} & -\\frac{1}{2} & -1 & \\frac{1}{4} & -\\frac{9}{4} \\\\\n",
       "-5 & -\\frac{5}{2} & -1 & 7 & -\\frac{11}{2} & 1 \\\\\n",
       "-\\frac{3}{2} & -\\frac{9}{4} & \\frac{1}{4} & -\\frac{11}{2} & 1 & -\\frac{3}{2} \\\\\n",
       "-\\frac{3}{2} & -\\frac{7}{4} & -\\frac{9}{4} & 1 & -\\frac{3}{2} & -13\n",
       "\\end{array}\\right)</script></html>"
      ],
      "text/plain": [
       "[    2     0     0    -5  -3/2  -3/2]\n",
       "[    0  -1/2   3/2  -5/2  -9/4  -7/4]\n",
       "[    0   3/2  -1/2    -1   1/4  -9/4]\n",
       "[   -5  -5/2    -1     7 -11/2     1]\n",
       "[ -3/2  -9/4   1/4 -11/2     1  -3/2]\n",
       "[ -3/2  -7/4  -9/4     1  -3/2   -13]"
      ]
     },
     "metadata": {},
     "output_type": "display_data"
    },
    {
     "name": "stdout",
     "output_type": "stream",
     "text": [
      "Make entry (0, 3) equal to 0\n"
     ]
    },
    {
     "data": {
      "text/html": [
       "<html><script type=\"math/tex; mode=display\">\\newcommand{\\Bold}[1]{\\mathbf{#1}}\\left(\\begin{array}{rrrrrr}\n",
       "2 & 0 & 0 & 0 & -\\frac{3}{2} & -\\frac{3}{2} \\\\\n",
       "0 & -\\frac{1}{2} & \\frac{3}{2} & -\\frac{5}{2} & -\\frac{9}{4} & -\\frac{7}{4} \\\\\n",
       "0 & \\frac{3}{2} & -\\frac{1}{2} & -1 & \\frac{1}{4} & -\\frac{9}{4} \\\\\n",
       "0 & -\\frac{5}{2} & -1 & -\\frac{11}{2} & -\\frac{37}{4} & -\\frac{11}{4} \\\\\n",
       "-\\frac{3}{2} & -\\frac{9}{4} & \\frac{1}{4} & -\\frac{37}{4} & 1 & -\\frac{3}{2} \\\\\n",
       "-\\frac{3}{2} & -\\frac{7}{4} & -\\frac{9}{4} & -\\frac{11}{4} & -\\frac{3}{2} & -13\n",
       "\\end{array}\\right)</script></html>"
      ],
      "text/plain": [
       "[    2     0     0     0  -3/2  -3/2]\n",
       "[    0  -1/2   3/2  -5/2  -9/4  -7/4]\n",
       "[    0   3/2  -1/2    -1   1/4  -9/4]\n",
       "[    0  -5/2    -1 -11/2 -37/4 -11/4]\n",
       "[ -3/2  -9/4   1/4 -37/4     1  -3/2]\n",
       "[ -3/2  -7/4  -9/4 -11/4  -3/2   -13]"
      ]
     },
     "metadata": {},
     "output_type": "display_data"
    },
    {
     "name": "stdout",
     "output_type": "stream",
     "text": [
      "Make entry (0, 4) equal to 0\n"
     ]
    },
    {
     "data": {
      "text/html": [
       "<html><script type=\"math/tex; mode=display\">\\newcommand{\\Bold}[1]{\\mathbf{#1}}\\left(\\begin{array}{rrrrrr}\n",
       "2 & 0 & 0 & 0 & 0 & -\\frac{3}{2} \\\\\n",
       "0 & -\\frac{1}{2} & \\frac{3}{2} & -\\frac{5}{2} & -\\frac{9}{4} & -\\frac{7}{4} \\\\\n",
       "0 & \\frac{3}{2} & -\\frac{1}{2} & -1 & \\frac{1}{4} & -\\frac{9}{4} \\\\\n",
       "0 & -\\frac{5}{2} & -1 & -\\frac{11}{2} & -\\frac{37}{4} & -\\frac{11}{4} \\\\\n",
       "0 & -\\frac{9}{4} & \\frac{1}{4} & -\\frac{37}{4} & -\\frac{1}{8} & -\\frac{21}{8} \\\\\n",
       "-\\frac{3}{2} & -\\frac{7}{4} & -\\frac{9}{4} & -\\frac{11}{4} & -\\frac{21}{8} & -13\n",
       "\\end{array}\\right)</script></html>"
      ],
      "text/plain": [
       "[    2     0     0     0     0  -3/2]\n",
       "[    0  -1/2   3/2  -5/2  -9/4  -7/4]\n",
       "[    0   3/2  -1/2    -1   1/4  -9/4]\n",
       "[    0  -5/2    -1 -11/2 -37/4 -11/4]\n",
       "[    0  -9/4   1/4 -37/4  -1/8 -21/8]\n",
       "[ -3/2  -7/4  -9/4 -11/4 -21/8   -13]"
      ]
     },
     "metadata": {},
     "output_type": "display_data"
    },
    {
     "name": "stdout",
     "output_type": "stream",
     "text": [
      "Make entry (0, 5) equal to 0\n"
     ]
    },
    {
     "data": {
      "text/html": [
       "<html><script type=\"math/tex; mode=display\">\\newcommand{\\Bold}[1]{\\mathbf{#1}}\\left(\\begin{array}{rrrrrr}\n",
       "2 & 0 & 0 & 0 & 0 & 0 \\\\\n",
       "0 & -\\frac{1}{2} & \\frac{3}{2} & -\\frac{5}{2} & -\\frac{9}{4} & -\\frac{7}{4} \\\\\n",
       "0 & \\frac{3}{2} & -\\frac{1}{2} & -1 & \\frac{1}{4} & -\\frac{9}{4} \\\\\n",
       "0 & -\\frac{5}{2} & -1 & -\\frac{11}{2} & -\\frac{37}{4} & -\\frac{11}{4} \\\\\n",
       "0 & -\\frac{9}{4} & \\frac{1}{4} & -\\frac{37}{4} & -\\frac{1}{8} & -\\frac{21}{8} \\\\\n",
       "0 & -\\frac{7}{4} & -\\frac{9}{4} & -\\frac{11}{4} & -\\frac{21}{8} & -\\frac{113}{8}\n",
       "\\end{array}\\right)</script></html>"
      ],
      "text/plain": [
       "[     2      0      0      0      0      0]\n",
       "[     0   -1/2    3/2   -5/2   -9/4   -7/4]\n",
       "[     0    3/2   -1/2     -1    1/4   -9/4]\n",
       "[     0   -5/2     -1  -11/2  -37/4  -11/4]\n",
       "[     0   -9/4    1/4  -37/4   -1/8  -21/8]\n",
       "[     0   -7/4   -9/4  -11/4  -21/8 -113/8]"
      ]
     },
     "metadata": {},
     "output_type": "display_data"
    }
   ],
   "source": [
    "for i in range(1, state.dim):\n",
    "    state.add_row(0, i, -state.m[0, i] / state.m[0, 0], f\"Make entry ({0}, {i}) equal to 0\")"
   ]
  },
  {
   "cell_type": "markdown",
   "metadata": {},
   "source": [
    "If we repeat this for $ m_{22} $ till $ m_{nn} $, by induction, we get the required $ a \\in \\mathbb Z $ and $ t \\in \\mathop{SL}_n \\left( \\mathbb Z \\left[ \\frac 1 a \\right] \\right) $ such that $ t^T m t $ is diagonal."
   ]
  },
  {
   "cell_type": "code",
   "execution_count": 24,
   "metadata": {},
   "outputs": [
    {
     "name": "stdout",
     "output_type": "stream",
     "text": [
      "Make entry (1, 2) equal to 0\n"
     ]
    },
    {
     "data": {
      "text/html": [
       "<html><script type=\"math/tex; mode=display\">\\newcommand{\\Bold}[1]{\\mathbf{#1}}\\left(\\begin{array}{rrrrrr}\n",
       "2 & 0 & 0 & 0 & 0 & 0 \\\\\n",
       "0 & -\\frac{1}{2} & 0 & -\\frac{5}{2} & -\\frac{9}{4} & -\\frac{7}{4} \\\\\n",
       "0 & 0 & 4 & -\\frac{17}{2} & -\\frac{13}{2} & -\\frac{15}{2} \\\\\n",
       "0 & -\\frac{5}{2} & -\\frac{17}{2} & -\\frac{11}{2} & -\\frac{37}{4} & -\\frac{11}{4} \\\\\n",
       "0 & -\\frac{9}{4} & -\\frac{13}{2} & -\\frac{37}{4} & -\\frac{1}{8} & -\\frac{21}{8} \\\\\n",
       "0 & -\\frac{7}{4} & -\\frac{15}{2} & -\\frac{11}{4} & -\\frac{21}{8} & -\\frac{113}{8}\n",
       "\\end{array}\\right)</script></html>"
      ],
      "text/plain": [
       "[     2      0      0      0      0      0]\n",
       "[     0   -1/2      0   -5/2   -9/4   -7/4]\n",
       "[     0      0      4  -17/2  -13/2  -15/2]\n",
       "[     0   -5/2  -17/2  -11/2  -37/4  -11/4]\n",
       "[     0   -9/4  -13/2  -37/4   -1/8  -21/8]\n",
       "[     0   -7/4  -15/2  -11/4  -21/8 -113/8]"
      ]
     },
     "metadata": {},
     "output_type": "display_data"
    },
    {
     "name": "stdout",
     "output_type": "stream",
     "text": [
      "Make entry (1, 3) equal to 0\n"
     ]
    },
    {
     "data": {
      "text/html": [
       "<html><script type=\"math/tex; mode=display\">\\newcommand{\\Bold}[1]{\\mathbf{#1}}\\left(\\begin{array}{rrrrrr}\n",
       "2 & 0 & 0 & 0 & 0 & 0 \\\\\n",
       "0 & -\\frac{1}{2} & 0 & 0 & -\\frac{9}{4} & -\\frac{7}{4} \\\\\n",
       "0 & 0 & 4 & -\\frac{17}{2} & -\\frac{13}{2} & -\\frac{15}{2} \\\\\n",
       "0 & 0 & -\\frac{17}{2} & 7 & 2 & 6 \\\\\n",
       "0 & -\\frac{9}{4} & -\\frac{13}{2} & 2 & -\\frac{1}{8} & -\\frac{21}{8} \\\\\n",
       "0 & -\\frac{7}{4} & -\\frac{15}{2} & 6 & -\\frac{21}{8} & -\\frac{113}{8}\n",
       "\\end{array}\\right)</script></html>"
      ],
      "text/plain": [
       "[     2      0      0      0      0      0]\n",
       "[     0   -1/2      0      0   -9/4   -7/4]\n",
       "[     0      0      4  -17/2  -13/2  -15/2]\n",
       "[     0      0  -17/2      7      2      6]\n",
       "[     0   -9/4  -13/2      2   -1/8  -21/8]\n",
       "[     0   -7/4  -15/2      6  -21/8 -113/8]"
      ]
     },
     "metadata": {},
     "output_type": "display_data"
    },
    {
     "name": "stdout",
     "output_type": "stream",
     "text": [
      "Make entry (1, 4) equal to 0\n"
     ]
    },
    {
     "data": {
      "text/html": [
       "<html><script type=\"math/tex; mode=display\">\\newcommand{\\Bold}[1]{\\mathbf{#1}}\\left(\\begin{array}{rrrrrr}\n",
       "2 & 0 & 0 & 0 & 0 & 0 \\\\\n",
       "0 & -\\frac{1}{2} & 0 & 0 & 0 & -\\frac{7}{4} \\\\\n",
       "0 & 0 & 4 & -\\frac{17}{2} & -\\frac{13}{2} & -\\frac{15}{2} \\\\\n",
       "0 & 0 & -\\frac{17}{2} & 7 & 2 & 6 \\\\\n",
       "0 & 0 & -\\frac{13}{2} & 2 & 10 & \\frac{21}{4} \\\\\n",
       "0 & -\\frac{7}{4} & -\\frac{15}{2} & 6 & \\frac{21}{4} & -\\frac{113}{8}\n",
       "\\end{array}\\right)</script></html>"
      ],
      "text/plain": [
       "[     2      0      0      0      0      0]\n",
       "[     0   -1/2      0      0      0   -7/4]\n",
       "[     0      0      4  -17/2  -13/2  -15/2]\n",
       "[     0      0  -17/2      7      2      6]\n",
       "[     0      0  -13/2      2     10   21/4]\n",
       "[     0   -7/4  -15/2      6   21/4 -113/8]"
      ]
     },
     "metadata": {},
     "output_type": "display_data"
    },
    {
     "name": "stdout",
     "output_type": "stream",
     "text": [
      "Make entry (1, 5) equal to 0\n"
     ]
    },
    {
     "data": {
      "text/html": [
       "<html><script type=\"math/tex; mode=display\">\\newcommand{\\Bold}[1]{\\mathbf{#1}}\\left(\\begin{array}{rrrrrr}\n",
       "2 & 0 & 0 & 0 & 0 & 0 \\\\\n",
       "0 & -\\frac{1}{2} & 0 & 0 & 0 & 0 \\\\\n",
       "0 & 0 & 4 & -\\frac{17}{2} & -\\frac{13}{2} & -\\frac{15}{2} \\\\\n",
       "0 & 0 & -\\frac{17}{2} & 7 & 2 & 6 \\\\\n",
       "0 & 0 & -\\frac{13}{2} & 2 & 10 & \\frac{21}{4} \\\\\n",
       "0 & 0 & -\\frac{15}{2} & 6 & \\frac{21}{4} & -8\n",
       "\\end{array}\\right)</script></html>"
      ],
      "text/plain": [
       "[    2     0     0     0     0     0]\n",
       "[    0  -1/2     0     0     0     0]\n",
       "[    0     0     4 -17/2 -13/2 -15/2]\n",
       "[    0     0 -17/2     7     2     6]\n",
       "[    0     0 -13/2     2    10  21/4]\n",
       "[    0     0 -15/2     6  21/4    -8]"
      ]
     },
     "metadata": {},
     "output_type": "display_data"
    },
    {
     "name": "stdout",
     "output_type": "stream",
     "text": [
      "Make entry (2, 3) equal to 0\n"
     ]
    },
    {
     "data": {
      "text/html": [
       "<html><script type=\"math/tex; mode=display\">\\newcommand{\\Bold}[1]{\\mathbf{#1}}\\left(\\begin{array}{rrrrrr}\n",
       "2 & 0 & 0 & 0 & 0 & 0 \\\\\n",
       "0 & -\\frac{1}{2} & 0 & 0 & 0 & 0 \\\\\n",
       "0 & 0 & 4 & 0 & -\\frac{13}{2} & -\\frac{15}{2} \\\\\n",
       "0 & 0 & 0 & -\\frac{177}{16} & -\\frac{189}{16} & -\\frac{159}{16} \\\\\n",
       "0 & 0 & -\\frac{13}{2} & -\\frac{189}{16} & 10 & \\frac{21}{4} \\\\\n",
       "0 & 0 & -\\frac{15}{2} & -\\frac{159}{16} & \\frac{21}{4} & -8\n",
       "\\end{array}\\right)</script></html>"
      ],
      "text/plain": [
       "[      2       0       0       0       0       0]\n",
       "[      0    -1/2       0       0       0       0]\n",
       "[      0       0       4       0   -13/2   -15/2]\n",
       "[      0       0       0 -177/16 -189/16 -159/16]\n",
       "[      0       0   -13/2 -189/16      10    21/4]\n",
       "[      0       0   -15/2 -159/16    21/4      -8]"
      ]
     },
     "metadata": {},
     "output_type": "display_data"
    },
    {
     "name": "stdout",
     "output_type": "stream",
     "text": [
      "Make entry (2, 4) equal to 0\n"
     ]
    },
    {
     "data": {
      "text/html": [
       "<html><script type=\"math/tex; mode=display\">\\newcommand{\\Bold}[1]{\\mathbf{#1}}\\left(\\begin{array}{rrrrrr}\n",
       "2 & 0 & 0 & 0 & 0 & 0 \\\\\n",
       "0 & -\\frac{1}{2} & 0 & 0 & 0 & 0 \\\\\n",
       "0 & 0 & 4 & 0 & 0 & -\\frac{15}{2} \\\\\n",
       "0 & 0 & 0 & -\\frac{177}{16} & -\\frac{189}{16} & -\\frac{159}{16} \\\\\n",
       "0 & 0 & 0 & -\\frac{189}{16} & -\\frac{9}{16} & -\\frac{111}{16} \\\\\n",
       "0 & 0 & -\\frac{15}{2} & -\\frac{159}{16} & -\\frac{111}{16} & -8\n",
       "\\end{array}\\right)</script></html>"
      ],
      "text/plain": [
       "[      2       0       0       0       0       0]\n",
       "[      0    -1/2       0       0       0       0]\n",
       "[      0       0       4       0       0   -15/2]\n",
       "[      0       0       0 -177/16 -189/16 -159/16]\n",
       "[      0       0       0 -189/16   -9/16 -111/16]\n",
       "[      0       0   -15/2 -159/16 -111/16      -8]"
      ]
     },
     "metadata": {},
     "output_type": "display_data"
    },
    {
     "name": "stdout",
     "output_type": "stream",
     "text": [
      "Make entry (2, 5) equal to 0\n"
     ]
    },
    {
     "data": {
      "text/html": [
       "<html><script type=\"math/tex; mode=display\">\\newcommand{\\Bold}[1]{\\mathbf{#1}}\\left(\\begin{array}{rrrrrr}\n",
       "2 & 0 & 0 & 0 & 0 & 0 \\\\\n",
       "0 & -\\frac{1}{2} & 0 & 0 & 0 & 0 \\\\\n",
       "0 & 0 & 4 & 0 & 0 & 0 \\\\\n",
       "0 & 0 & 0 & -\\frac{177}{16} & -\\frac{189}{16} & -\\frac{159}{16} \\\\\n",
       "0 & 0 & 0 & -\\frac{189}{16} & -\\frac{9}{16} & -\\frac{111}{16} \\\\\n",
       "0 & 0 & 0 & -\\frac{159}{16} & -\\frac{111}{16} & -\\frac{353}{16}\n",
       "\\end{array}\\right)</script></html>"
      ],
      "text/plain": [
       "[      2       0       0       0       0       0]\n",
       "[      0    -1/2       0       0       0       0]\n",
       "[      0       0       4       0       0       0]\n",
       "[      0       0       0 -177/16 -189/16 -159/16]\n",
       "[      0       0       0 -189/16   -9/16 -111/16]\n",
       "[      0       0       0 -159/16 -111/16 -353/16]"
      ]
     },
     "metadata": {},
     "output_type": "display_data"
    },
    {
     "name": "stdout",
     "output_type": "stream",
     "text": [
      "Make entry (3, 4) equal to 0\n"
     ]
    },
    {
     "data": {
      "text/html": [
       "<html><script type=\"math/tex; mode=display\">\\newcommand{\\Bold}[1]{\\mathbf{#1}}\\left(\\begin{array}{rrrrrr}\n",
       "2 & 0 & 0 & 0 & 0 & 0 \\\\\n",
       "0 & -\\frac{1}{2} & 0 & 0 & 0 & 0 \\\\\n",
       "0 & 0 & 4 & 0 & 0 & 0 \\\\\n",
       "0 & 0 & 0 & -\\frac{177}{16} & 0 & -\\frac{159}{16} \\\\\n",
       "0 & 0 & 0 & 0 & \\frac{711}{59} & \\frac{867}{236} \\\\\n",
       "0 & 0 & 0 & -\\frac{159}{16} & \\frac{867}{236} & -\\frac{353}{16}\n",
       "\\end{array}\\right)</script></html>"
      ],
      "text/plain": [
       "[      2       0       0       0       0       0]\n",
       "[      0    -1/2       0       0       0       0]\n",
       "[      0       0       4       0       0       0]\n",
       "[      0       0       0 -177/16       0 -159/16]\n",
       "[      0       0       0       0  711/59 867/236]\n",
       "[      0       0       0 -159/16 867/236 -353/16]"
      ]
     },
     "metadata": {},
     "output_type": "display_data"
    },
    {
     "name": "stdout",
     "output_type": "stream",
     "text": [
      "Make entry (3, 5) equal to 0\n"
     ]
    },
    {
     "data": {
      "text/html": [
       "<html><script type=\"math/tex; mode=display\">\\newcommand{\\Bold}[1]{\\mathbf{#1}}\\left(\\begin{array}{rrrrrr}\n",
       "2 & 0 & 0 & 0 & 0 & 0 \\\\\n",
       "0 & -\\frac{1}{2} & 0 & 0 & 0 & 0 \\\\\n",
       "0 & 0 & 4 & 0 & 0 & 0 \\\\\n",
       "0 & 0 & 0 & -\\frac{177}{16} & 0 & 0 \\\\\n",
       "0 & 0 & 0 & 0 & \\frac{711}{59} & \\frac{867}{236} \\\\\n",
       "0 & 0 & 0 & 0 & \\frac{867}{236} & -\\frac{775}{59}\n",
       "\\end{array}\\right)</script></html>"
      ],
      "text/plain": [
       "[      2       0       0       0       0       0]\n",
       "[      0    -1/2       0       0       0       0]\n",
       "[      0       0       4       0       0       0]\n",
       "[      0       0       0 -177/16       0       0]\n",
       "[      0       0       0       0  711/59 867/236]\n",
       "[      0       0       0       0 867/236 -775/59]"
      ]
     },
     "metadata": {},
     "output_type": "display_data"
    },
    {
     "name": "stdout",
     "output_type": "stream",
     "text": [
      "Make entry (4, 5) equal to 0\n"
     ]
    },
    {
     "data": {
      "text/html": [
       "<html><script type=\"math/tex; mode=display\">\\newcommand{\\Bold}[1]{\\mathbf{#1}}\\left(\\begin{array}{rrrrrr}\n",
       "2 & 0 & 0 & 0 & 0 & 0 \\\\\n",
       "0 & -\\frac{1}{2} & 0 & 0 & 0 & 0 \\\\\n",
       "0 & 0 & 4 & 0 & 0 & 0 \\\\\n",
       "0 & 0 & 0 & -\\frac{177}{16} & 0 & 0 \\\\\n",
       "0 & 0 & 0 & 0 & \\frac{711}{59} & 0 \\\\\n",
       "0 & 0 & 0 & 0 & 0 & -\\frac{18019}{1264}\n",
       "\\end{array}\\right)</script></html>"
      ],
      "text/plain": [
       "[          2           0           0           0           0           0]\n",
       "[          0        -1/2           0           0           0           0]\n",
       "[          0           0           4           0           0           0]\n",
       "[          0           0           0     -177/16           0           0]\n",
       "[          0           0           0           0      711/59           0]\n",
       "[          0           0           0           0           0 -18019/1264]"
      ]
     },
     "metadata": {},
     "output_type": "display_data"
    }
   ],
   "source": [
    "for i in range(1, dim - 1):\n",
    "    (o, j) = min((common.ord_vector(p, state.m, j), j) for j in range(i, dim))\n",
    "    if o < common.ord_vector(p, state.m, i):\n",
    "        state.switch_columns(j, i, description = f\"Make sure that the order of column {i} is minimal\")\n",
    "        \n",
    "    (o, j) = min((common.ord(p, state.m[j, i]), j) for j in range(i, dim))\n",
    "    for k in range(2):\n",
    "        if o < common.ord(p, state.m[i, i]):\n",
    "            state.add_row(j, i, description = f\"Make sure that the order of entry ({i}, {i}) is minimal\")\n",
    "            \n",
    "    a = lcm(a, (state.m[i, i] * p^(-common.ord(p, state.m[i, i]))).numerator())\n",
    "    \n",
    "    for j in range(i + 1, state.dim):\n",
    "        state.add_row(i, j, -state.m[i, j] / state.m[i, i], f\"Make entry ({i}, {j}) equal to 0\")"
   ]
  },
  {
   "cell_type": "code",
   "execution_count": 25,
   "metadata": {},
   "outputs": [
    {
     "data": {
      "text/html": [
       "<html><script type=\"math/tex; mode=display\">\\newcommand{\\Bold}[1]{\\mathbf{#1}}2^{2} \\cdot 3^{2} \\cdot 59 \\cdot 79</script></html>"
      ],
      "text/plain": [
       "2^2 * 3^2 * 59 * 79"
      ]
     },
     "execution_count": 25,
     "metadata": {},
     "output_type": "execute_result"
    }
   ],
   "source": [
    "a.factor()"
   ]
  },
  {
   "cell_type": "code",
   "execution_count": 26,
   "metadata": {},
   "outputs": [
    {
     "data": {
      "text/html": [
       "<html><script type=\"math/tex; mode=display\">\\newcommand{\\Bold}[1]{\\mathbf{#1}}\\left(\\begin{array}{rrrrrr}\n",
       "1 & \\frac{1}{2} & 2 & \\frac{17}{4} & -\\frac{329}{118} & -\\frac{413}{1896} \\\\\n",
       "0 & 1 & 3 & \\frac{11}{8} & -\\frac{129}{118} & \\frac{773}{632} \\\\\n",
       "0 & 0 & 1 & \\frac{17}{8} & -\\frac{38}{59} & \\frac{77}{474} \\\\\n",
       "0 & 0 & 0 & 1 & -\\frac{63}{59} & -\\frac{181}{316} \\\\\n",
       "0 & 0 & 0 & 0 & 1 & -\\frac{289}{948} \\\\\n",
       "0 & 0 & 0 & 0 & 0 & 1\n",
       "\\end{array}\\right)</script></html>"
      ],
      "text/plain": [
       "[        1       1/2         2      17/4  -329/118 -413/1896]\n",
       "[        0         1         3      11/8  -129/118   773/632]\n",
       "[        0         0         1      17/8    -38/59    77/474]\n",
       "[        0         0         0         1    -63/59  -181/316]\n",
       "[        0         0         0         0         1  -289/948]\n",
       "[        0         0         0         0         0         1]"
      ]
     },
     "execution_count": 26,
     "metadata": {},
     "output_type": "execute_result"
    }
   ],
   "source": [
    "state.t"
   ]
  },
  {
   "cell_type": "code",
   "execution_count": 27,
   "metadata": {},
   "outputs": [
    {
     "data": {
      "text/html": [
       "<html><script type=\"math/tex; mode=display\">\\newcommand{\\Bold}[1]{\\mathbf{#1}}2^{3} \\cdot 3 \\cdot 59 \\cdot 79</script></html>"
      ],
      "text/plain": [
       "2^3 * 3 * 59 * 79"
      ]
     },
     "execution_count": 27,
     "metadata": {},
     "output_type": "execute_result"
    }
   ],
   "source": [
    "lcm(x.denominator() for x in state.t.coefficients()).factor()"
   ]
  },
  {
   "cell_type": "code",
   "execution_count": 28,
   "metadata": {},
   "outputs": [
    {
     "data": {
      "text/html": [
       "<html><script type=\"math/tex; mode=display\">\\newcommand{\\Bold}[1]{\\mathbf{#1}}\\left(\\begin{array}{rrrrrr}\n",
       "2 & 0 & 0 & 0 & 0 & 0 \\\\\n",
       "0 & -\\frac{1}{2} & 0 & 0 & 0 & 0 \\\\\n",
       "0 & 0 & 4 & 0 & 0 & 0 \\\\\n",
       "0 & 0 & 0 & -\\frac{177}{16} & 0 & 0 \\\\\n",
       "0 & 0 & 0 & 0 & \\frac{711}{59} & 0 \\\\\n",
       "0 & 0 & 0 & 0 & 0 & -\\frac{18019}{1264}\n",
       "\\end{array}\\right)</script></html>"
      ],
      "text/plain": [
       "[          2           0           0           0           0           0]\n",
       "[          0        -1/2           0           0           0           0]\n",
       "[          0           0           4           0           0           0]\n",
       "[          0           0           0     -177/16           0           0]\n",
       "[          0           0           0           0      711/59           0]\n",
       "[          0           0           0           0           0 -18019/1264]"
      ]
     },
     "execution_count": 28,
     "metadata": {},
     "output_type": "execute_result"
    }
   ],
   "source": [
    "state.t.transpose() * m0 * state.t"
   ]
  }
 ],
 "metadata": {
  "kernelspec": {
   "display_name": "SageMath 9.0",
   "language": "sage",
   "name": "sagemath"
  },
  "language_info": {
   "codemirror_mode": {
    "name": "ipython",
    "version": 3
   },
   "file_extension": ".py",
   "mimetype": "text/x-python",
   "name": "python",
   "nbconvert_exporter": "python",
   "pygments_lexer": "ipython3",
   "version": "3.8.10"
  }
 },
 "nbformat": 4,
 "nbformat_minor": 4
}
