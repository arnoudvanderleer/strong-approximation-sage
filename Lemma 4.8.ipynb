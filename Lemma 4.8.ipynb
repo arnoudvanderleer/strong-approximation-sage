{
 "cells": [
  {
   "cell_type": "code",
   "execution_count": 1,
   "metadata": {},
   "outputs": [],
   "source": [
    "%display latex"
   ]
  },
  {
   "cell_type": "code",
   "execution_count": 2,
   "metadata": {},
   "outputs": [],
   "source": [
    "import algorithms, common"
   ]
  },
  {
   "cell_type": "code",
   "execution_count": 3,
   "metadata": {},
   "outputs": [],
   "source": [
    "m = diagonal_matrix([1, 47, -103, 17 * 47 * -103])\n",
    "dim = m.nrows()"
   ]
  },
  {
   "cell_type": "code",
   "execution_count": 18,
   "metadata": {},
   "outputs": [],
   "source": [
    "improvements = []\n",
    "l = 0"
   ]
  },
  {
   "cell_type": "code",
   "execution_count": 19,
   "metadata": {},
   "outputs": [],
   "source": [
    "for (p, n) in m.determinant().factor():\n",
    "    if n % 2 != 0:\n",
    "        continue\n",
    "    coefficients = [m[i, i] // p for i in range(dim) if m[i, i] % p == 0]\n",
    "    if not GF(p)((-1)^(n // 2) * prod(coefficients)).is_square():\n",
    "        continue\n",
    "    (_, improvement) = algorithms.theorem_4_1(m, p)\n",
    "    r, s = algorithms.lemma_4_5(m, improvement, p)\n",
    "    improvements.append((p, r, s))\n",
    "    l = max(l, -min(common.ord(p, s[i, i]) for i in range(dim)))"
   ]
  },
  {
   "cell_type": "code",
   "execution_count": 20,
   "metadata": {},
   "outputs": [],
   "source": [
    "if len([i for i in range(dim) if m[i, i] % 4 == 1]) == len([i for i in range(dim) if m[i, i] % 4 == 3]):\n",
    "    (_, improvement) = algorithms.lemma_4_7(m)\n",
    "    r, s = algorithms.lemma_4_5(m, improvement, 2)\n",
    "    improvements.append((2, r, s))\n",
    "    l = max(l, -min(common.ord(2, s[i, i]) for i in range(dim)))"
   ]
  },
  {
   "cell_type": "code",
   "execution_count": 21,
   "metadata": {},
   "outputs": [
    {
     "data": {
      "text/html": [
       "<html><script type=\"math/tex; mode=display\">\\newcommand{\\Bold}[1]{\\mathbf{#1}}\\left(\\left[\\left(47, \\left(\\begin{array}{rrrr}\n",
       "0 & 0 & 0 & 1 \\\\\n",
       "1 & 0 & 0 & 0 \\\\\n",
       "0 & 0 & 1 & 0 \\\\\n",
       "96 & 1 & 0 & 0\n",
       "\\end{array}\\right), \\left(\\begin{array}{rrrr}\n",
       "\\frac{1}{47} & 0 & 0 & 0 \\\\\n",
       "0 & 1 & 0 & 0 \\\\\n",
       "0 & 0 & 1 & 0 \\\\\n",
       "0 & 0 & 0 & 1\n",
       "\\end{array}\\right)\\right), \\left(103, \\left(\\begin{array}{rrrr}\n",
       "0 & 0 & 0 & 1 \\\\\n",
       "0 & 0 & -1 & 0 \\\\\n",
       "1 & 0 & 0 & 0 \\\\\n",
       "2122 & 1 & 0 & 0\n",
       "\\end{array}\\right), \\left(\\begin{array}{rrrr}\n",
       "\\frac{1}{103} & 0 & 0 & 0 \\\\\n",
       "0 & 1 & 0 & 0 \\\\\n",
       "0 & 0 & 1 & 0 \\\\\n",
       "0 & 0 & 0 & 1\n",
       "\\end{array}\\right)\\right), \\left(2, \\left(\\begin{array}{rrrr}\n",
       "1 & 0 & 0 & 0 \\\\\n",
       "1 & 0 & 0 & 1 \\\\\n",
       "0 & 1 & 0 & 0 \\\\\n",
       "0 & 1 & 1 & 0\n",
       "\\end{array}\\right), \\left(\\begin{array}{rrrr}\n",
       "\\frac{1}{2} & 0 & 0 & 0 \\\\\n",
       "0 & \\frac{1}{2} & 0 & 0 \\\\\n",
       "0 & 0 & 1 & 0 \\\\\n",
       "0 & 0 & 0 & 1\n",
       "\\end{array}\\right)\\right)\\right], 1\\right)</script></html>"
      ],
      "text/plain": [
       "([(\n",
       "    [ 0  0  0  1]  [1/47    0    0    0]\n",
       "    [ 1  0  0  0]  [   0    1    0    0]\n",
       "    [ 0  0  1  0]  [   0    0    1    0]\n",
       "47, [96  1  0  0], [   0    0    0    1]\n",
       "),\n",
       "  (\n",
       "     [   0    0    0    1]  [1/103     0     0     0]\n",
       "     [   0    0   -1    0]  [    0     1     0     0]\n",
       "     [   1    0    0    0]  [    0     0     1     0]\n",
       "103, [2122    1    0    0], [    0     0     0     1]\n",
       "),\n",
       "  (\n",
       "   [1 0 0 0]  [1/2   0   0   0]\n",
       "   [1 0 0 1]  [  0 1/2   0   0]\n",
       "   [0 1 0 0]  [  0   0   1   0]\n",
       "2, [0 1 1 0], [  0   0   0   1]\n",
       ")],\n",
       " 1)"
      ]
     },
     "execution_count": 21,
     "metadata": {},
     "output_type": "execute_result"
    }
   ],
   "source": [
    "(improvements, l)"
   ]
  },
  {
   "cell_type": "code",
   "execution_count": 22,
   "metadata": {},
   "outputs": [
    {
     "data": {
      "text/html": [
       "<html><script type=\"math/tex; mode=display\">\\newcommand{\\Bold}[1]{\\mathbf{#1}}2^{2} \\cdot 47^{2} \\cdot 103^{2}</script></html>"
      ],
      "text/plain": [
       "2^2 * 47^2 * 103^2"
      ]
     },
     "execution_count": 22,
     "metadata": {},
     "output_type": "execute_result"
    }
   ],
   "source": [
    "total_modulus = prod(x[0]^(2 * l) for x in improvements); total_modulus.factor()"
   ]
  },
  {
   "cell_type": "code",
   "execution_count": 23,
   "metadata": {},
   "outputs": [],
   "source": [
    "r = algorithms.lemma_3_1(\n",
    "    matrix(\n",
    "        [Integers(total_modulus)(CRT_list([x[1][j, i] for x in improvements], [x[0]^(2 * l) for x in improvements])) for i in range(dim)] for j in range(dim)\n",
    "    )\n",
    ")"
   ]
  },
  {
   "cell_type": "code",
   "execution_count": 24,
   "metadata": {},
   "outputs": [],
   "source": [
    "t = r * prod(x[2] for x in improvements)"
   ]
  },
  {
   "cell_type": "code",
   "execution_count": 28,
   "metadata": {},
   "outputs": [
    {
     "data": {
      "text/html": [
       "<html><script type=\"math/tex; mode=display\">\\newcommand{\\Bold}[1]{\\mathbf{#1}}\\left(\\begin{array}{rrrr}\n",
       "-386334017479043759335490942774736913416839673972407184284078510445783155922 & 3379817959108870299763191145783097556895253915641257196928163011 & -148991850342860053974488755745180505663031246050776825411298304514101620 & -\\frac{22442916062610981448593917544733871607142634280310524486144081174630962553395397}{2} \\\\\n",
       "3379817959108870299763191145783097556895253915641257196928163011 & -29568117017638722031287435627865707968628714728873924 & \\frac{2606890973958692739626499503698317911839729005579434562448815}{2} & 98170193836606799640822497047087462707215183646855757214716370537398 \\\\\n",
       "-148991850342860053974488755745180505663031246050776825411298304514101620 & \\frac{2606890973958692739626499503698317911839729005579434562448815}{2} & -57459531038561323024019754604662784056997257819567158880756556552081 & -4327617346612878259099273615696235307680798225338894652509237858939535624044 \\\\\n",
       "-\\frac{22442916062610981448593917544733871607142634280310524486144081174630962553395397}{2} & 98170193836606799640822497047087462707215183646855757214716370537398 & -4327617346612878259099273615696235307680798225338894652509237858939535624044 & -325938474613307757088796891417622055220086055438531414313911449742268214062343599905\n",
       "\\end{array}\\right)</script></html>"
      ],
      "text/plain": [
       "[         -386334017479043759335490942774736913416839673972407184284078510445783155922                      3379817959108870299763191145783097556895253915641257196928163011             -148991850342860053974488755745180505663031246050776825411298304514101620   -22442916062610981448593917544733871607142634280310524486144081174630962553395397/2]\n",
       "[                     3379817959108870299763191145783097556895253915641257196928163011                                -29568117017638722031287435627865707968628714728873924                       2606890973958692739626499503698317911839729005579434562448815/2                  98170193836606799640822497047087462707215183646855757214716370537398]\n",
       "[            -148991850342860053974488755745180505663031246050776825411298304514101620                       2606890973958692739626499503698317911839729005579434562448815/2                 -57459531038561323024019754604662784056997257819567158880756556552081         -4327617346612878259099273615696235307680798225338894652509237858939535624044]\n",
       "[  -22442916062610981448593917544733871607142634280310524486144081174630962553395397/2                  98170193836606799640822497047087462707215183646855757214716370537398         -4327617346612878259099273615696235307680798225338894652509237858939535624044 -325938474613307757088796891417622055220086055438531414313911449742268214062343599905]"
      ]
     },
     "execution_count": 28,
     "metadata": {},
     "output_type": "execute_result"
    }
   ],
   "source": [
    "t.transpose() * m * t"
   ]
  },
  {
   "cell_type": "code",
   "execution_count": 25,
   "metadata": {},
   "outputs": [
    {
     "data": {
      "text/html": [
       "<html><script type=\"math/tex; mode=display\">\\newcommand{\\Bold}[1]{\\mathbf{#1}}17</script></html>"
      ],
      "text/plain": [
       "17"
      ]
     },
     "execution_count": 25,
     "metadata": {},
     "output_type": "execute_result"
    }
   ],
   "source": [
    "(2 * t.transpose() * m * t).determinant().factor()"
   ]
  }
 ],
 "metadata": {
  "kernelspec": {
   "display_name": "SageMath 9.0",
   "language": "sage",
   "name": "sagemath"
  },
  "language_info": {
   "codemirror_mode": {
    "name": "ipython",
    "version": 3
   },
   "file_extension": ".py",
   "mimetype": "text/x-python",
   "name": "python",
   "nbconvert_exporter": "python",
   "pygments_lexer": "ipython3",
   "version": "3.8.10"
  }
 },
 "nbformat": 4,
 "nbformat_minor": 4
}
